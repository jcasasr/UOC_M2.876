{
  "cells": [
    {
      "cell_type": "markdown",
      "metadata": {
        "id": "_8vfsjOnImbh"
      },
      "source": [
        "<div style=\"width: 100%; clear: both;\">\n",
        "    <div style=\"float: left; width: 50%;\">\n",
        "        <img src=\"http://www.uoc.edu/portal/_resources/common/imatges/marca_UOC/UOC_Masterbrand.jpg\" align=\"left\">\n",
        "    </div>\n",
        "</div>\n",
        "<div style=\"float: right; width: 50%;\">\n",
        "    <p style=\"margin: 0; padding-top: 22px; text-align:right;\">M2.876 · Análisis de grafos y redes sociales</p>\n",
        "    <p style=\"margin: 0; text-align:right;\">Máster universitario en Ciencias de Datos (<i>Data Science</i>)</p>\n",
        "    <p style=\"margin: 0; text-align:right; padding-button: 100px;\">Estudios de Informática, Multimedia y Telecomunicaciones</p>\n",
        "</div>\n",
        "<div style=\"width: 100%; clear: both;\"></div>\n",
        "<div style=\"width:100%;\">&nbsp;</div>"
      ]
    },
    {
      "cell_type": "markdown",
      "metadata": {
        "id": "Wu9mce4ZGdI7"
      },
      "source": [
        "# Predicción de enlaces (_link prediction_)\n",
        "\n",
        "En este _notebook_ veremos un ejemplo sencillo sobre cómo aplicar la predicción de enlaces."
      ]
    },
    {
      "cell_type": "markdown",
      "metadata": {
        "id": "0xp592MGJJwz"
      },
      "source": [
        "## Carga de librerías\n",
        "\n",
        "En la siguiente celda se deben cargar todas las librerías necesarias para ejecutar la actividad. Se debe justificar el uso de librerías adicionales."
      ]
    },
    {
      "cell_type": "code",
      "execution_count": null,
      "metadata": {
        "id": "civqV7fvx64Z"
      },
      "outputs": [],
      "source": [
        "import networkx as nx\n",
        "import pandas as pd\n",
        "import numpy as np\n",
        "import scipy.sparse as sp\n",
        "import json\n",
        "import collections\n",
        "import matplotlib.pyplot as plt\n",
        "\n",
        "import random"
      ]
    },
    {
      "cell_type": "markdown",
      "metadata": {
        "id": "qnHS8MMFMKaK"
      },
      "source": [
        "## Parte 1. Carga del conjunto de datos\n",
        "\n",
        "En esta actividad vamos a trabajar con un conjunto de datos que proviene de _streamers_ de Twitch de habla hispana. Se dispone de dos ficheros: \n",
        "- **edgelist.edgelist**: Contiene los enlaces entre dos jugadores. Suponemos que la red es no dirigida y que dos jugadores tienen un enlace cuando se siguen mutuamente.\n",
        "- **ES_features.json**: Contiene todos los atributos de cada nodo. Utilizaremos este fichero en la parte 3 de la PEC."
      ]
    },
    {
      "cell_type": "markdown",
      "metadata": {
        "id": "HZrd8aY3NfmZ"
      },
      "source": [
        "En esta parte exploraremos el grafo dado a partir de la lista de enlaces. Para ello:\n",
        "\n",
        "1. Crearemos el grafo no dirigido ni ponderado a partir del fichero *edgelist.edgelist*. \n",
        "\n",
        "2. Describiremos algunas de sus propiedades, como el número de nodos, número de aristas, distribución de grado, número de comunidades conectadas y la correspondiente medida de estas.\n",
        "\n",
        "2. Crearemos y representaremos gráficamente un subgrafo que contenga 800 nodos (con sus correspondientes aristas) escogidos al azar. "
      ]
    },
    {
      "cell_type": "code",
      "execution_count": null,
      "metadata": {
        "id": "XUlq4FOHN0EX"
      },
      "outputs": [],
      "source": [
        "def plot_deg_distr(g):\n",
        "    degree_sequence = sorted((d for n, d in g.degree()), reverse=True)\n",
        "    dmax = max(degree_sequence)\n",
        "\n",
        "    fig = plt.figure(\"Degree of a random graph\", figsize=(8, 8))\n",
        "    # Create a gridspec for adding subplots of different sizes\n",
        "    axgrid = fig.add_gridspec(5, 4)\n",
        "    \n",
        "    ax1 = fig.add_subplot(axgrid[3:, :2])\n",
        "    ax1.plot(degree_sequence, \"b-\", marker=\"o\")\n",
        "    ax1.set_title(\"Degree Rank Plot\")\n",
        "    ax1.set_ylabel(\"Degree\")\n",
        "    ax1.set_xlabel(\"Rank\")\n",
        "\n",
        "    ax2 = fig.add_subplot(axgrid[3:, 2:])\n",
        "    ax2.bar(*np.unique(degree_sequence, return_counts=True))\n",
        "    ax2.set_title(\"Degree histogram\")\n",
        "    ax2.set_xlabel(\"Degree\")\n",
        "    ax2.set_ylabel(\"# of Nodes\")\n",
        "\n",
        "    fig.tight_layout()\n",
        "    plt.show()\n",
        "    return \n",
        "\n",
        "def properties_G(g):\n",
        "    num_nodes_g = nx.number_of_nodes(g)\n",
        "    num_edges_g = nx.number_of_edges(g)\n",
        "    max_num_edges = num_nodes_g*(num_nodes_g-1)/2\n",
        "    print('Number of nodes ',num_nodes_g)\n",
        "    print('Number of edges ',num_edges_g)\n",
        "    n_nodes = nx.number_of_edges(g)\n",
        "    print(\"Density {}\".format(nx.number_of_edges(g)/(n_nodes*(n_nodes-1)/2)))\n",
        "    plot_deg_distr(g)\n",
        "    print('is connected g: {}'.format(nx.is_connected(g)))\n",
        "    print('number connected components:',len(list(nx.connected_components(g))))\n",
        "    print('size 10th biggest connected components:\\n{}'.format(sorted(list(map(len,nx.connected_components(g))),reverse=True)[:10]))\n",
        "    return"
      ]
    },
    {
      "cell_type": "code",
      "execution_count": null,
      "metadata": {
        "colab": {
          "base_uri": "https://localhost:8080/",
          "height": 393
        },
        "id": "-f5xhrVtN1DG",
        "outputId": "e6863673-18f3-46ca-85c4-05b218c2f405"
      },
      "outputs": [
        {
          "name": "stdout",
          "output_type": "stream",
          "text": [
            "Number of nodes  4648\n",
            "Number of edges  59382\n",
            "Density 3.368080699213553e-05\n"
          ]
        },
        {
          "data": {
            "image/png": "[encoded data removed]",
            "text/plain": [
              "<Figure size 800x800 with 2 Axes>"
            ]
          },
          "metadata": {},
          "output_type": "display_data"
        },
        {
          "name": "stdout",
          "output_type": "stream",
          "text": [
            "is connected g: True\n",
            "number connected components: 1\n",
            "size 10th biggest connected components:\n",
            "[4648]\n"
          ]
        }
      ],
      "source": [
        "# LOAD GRAPH and show properties\n",
        "G = nx.read_edgelist('data/edgelist.edgelist')\n",
        "\n",
        "# properties\n",
        "properties_G(G)"
      ]
    },
    {
      "cell_type": "code",
      "execution_count": null,
      "metadata": {
        "id": "fKcZ_Ivu-mtc"
      },
      "outputs": [],
      "source": [
        "# Create and plot subgraph\n",
        "random.seed(0)\n",
        "n = 800 # number nodes subgraph to work on\n",
        "nodes_g = random.sample(list(G.nodes()), k=n)\n",
        "g = nx.subgraph(G,nodes_g)"
      ]
    },
    {
      "cell_type": "code",
      "execution_count": null,
      "metadata": {
        "colab": {
          "base_uri": "https://localhost:8080/",
          "height": 410
        },
        "id": "t-cBM-1P-mtc",
        "outputId": "0295aacd-0ae8-4f6d-8c22-3e2d1e1f78bc"
      },
      "outputs": [
        {
          "name": "stdout",
          "output_type": "stream",
          "text": [
            "Properties subgraph\n",
            "Number of nodes  800\n",
            "Number of edges  1968\n",
            "Density 0.0010167768174885613\n"
          ]
        },
        {
          "data": {
            "image/png": "[encoded data removed]",
            "text/plain": [
              "<Figure size 800x800 with 2 Axes>"
            ]
          },
          "metadata": {},
          "output_type": "display_data"
        },
        {
          "name": "stdout",
          "output_type": "stream",
          "text": [
            "is connected g: False\n",
            "number connected components: 150\n",
            "size 10th biggest connected components:\n",
            "[642, 3, 2, 2, 2, 2, 2, 2, 2, 1]\n"
          ]
        }
      ],
      "source": [
        "print('Properties subgraph')\n",
        "properties_G(g)"
      ]
    },
    {
      "cell_type": "markdown",
      "metadata": {
        "id": "9xdjHuAYOcRE"
      },
      "source": [
        "## Parte 2. Predicción de enlaces basándose en la topología de la red\n"
      ]
    },
    {
      "cell_type": "markdown",
      "metadata": {
        "id": "pltPxxSb-mtc"
      },
      "source": [
        "Algunas veces los datos proporcionados no son correctos y nos faltan enlaces, o nos gustaría saber cuáles serían los enlaces más probables. En este caso trataremos de determinar qué método sería el más adecuado para predecir enlaces en nuestra red. \n",
        "\n",
        "**Nota**: como estamos trabajando con una red bastante grande, en este ejercicio partiremos de un subgrafo que contendrá 800 nodos.\n",
        "\n",
        "Una vez creado el subgrafo, tendremos que dividir el conjunto de aristas en dos partes: *train* y *test*. El *train* contendrá un 60 % de las aristas del grafo original.\n",
        "\n",
        "Usaremos los siguientes métodos para predecir aristas:\n",
        "- índice de vecinos comunes (*allocation index*)\n",
        "- índice de conexión preferencial\n",
        "\n",
        "Para evaluar la bondad del método en nuestro grafo, usaremos la función AUC-ROC. \n",
        "\n",
        "Usaremos las funciones ya programadas en Python, tanto para el cálculo de los diferentes índices como para la AUC-ROC (que está disponible en `sklearn.metrics.roc_auc_score`)."
      ]
    },
    {
      "cell_type": "code",
      "execution_count": null,
      "metadata": {
        "id": "GQVp-LM3OQRO"
      },
      "outputs": [],
      "source": [
        "def create_all_edges(g):\n",
        "    edges = []\n",
        "    for i in g.nodes():\n",
        "        for j in g.nodes():\n",
        "            if i<j:\n",
        "                edges.append((i,j))\n",
        "    return edges"
      ]
    },
    {
      "cell_type": "code",
      "execution_count": null,
      "metadata": {
        "id": "yfn4H8Vu-mtc"
      },
      "outputs": [],
      "source": [
        "# num_edges_g = nx.number_of_edges(G)\n",
        "num_nodes_g = nx.number_of_nodes(g)\n",
        "num_edges_g = nx.number_of_edges(g)"
      ]
    },
    {
      "cell_type": "code",
      "execution_count": null,
      "metadata": {
        "colab": {
          "base_uri": "https://localhost:8080/"
        },
        "id": "8K80QYkw-mtc",
        "outputId": "ab0534f4-d4c4-4e68-fea2-db8734e7114c"
      },
      "outputs": [
        {
          "name": "stdout",
          "output_type": "stream",
          "text": [
            "all possible edges  319600\n"
          ]
        }
      ],
      "source": [
        "# list all possible edges (complete graph)\n",
        "all_possible_edges = create_all_edges(g)\n",
        "max_num_edges = len(all_possible_edges)\n",
        "print('all possible edges ', max_num_edges)\n",
        "assert len(all_possible_edges) == num_nodes_g*(num_nodes_g-1)/2"
      ]
    },
    {
      "cell_type": "code",
      "execution_count": null,
      "metadata": {
        "colab": {
          "base_uri": "https://localhost:8080/"
        },
        "id": "EdblSH1uOvpx",
        "outputId": "1a9a4eef-a281-446a-85f7-a932be95be41"
      },
      "outputs": [
        {
          "name": "stdout",
          "output_type": "stream",
          "text": [
            "size to train  1181\n",
            "g train nodes: 800\n",
            "g_train edges: 1181\n",
            "g test nodes: 4648\n",
            "g test edges:787\n"
          ]
        }
      ],
      "source": [
        "# select train size\n",
        "size_train = round(0.6*num_edges_g) # we are asked to have a train set with 60% of edges\n",
        "print('size to train ',size_train)\n",
        "\n",
        "# train\n",
        "edges_train = random.sample(list(g.edges()), k=size_train)\n",
        "g_train = nx.Graph()\n",
        "g_train.add_nodes_from(g.nodes()) # add all possible nodes\n",
        "g_train.add_edges_from(edges_train) # add selected edges\n",
        "print('g train nodes: {}\\ng_train edges: {}'.format(nx.number_of_nodes(g_train), len(edges_train)))\n",
        "\n",
        "# test\n",
        "edges_test = set(g.edges())-set(edges_train)\n",
        "g_test = nx.Graph()\n",
        "g_test.add_nodes_from(G.nodes())\n",
        "g_test.add_edges_from(edges_test)\n",
        "print('g test nodes: {}\\ng test edges:{}'.format(nx.number_of_nodes(g_test),len(edges_test)))"
      ]
    },
    {
      "cell_type": "markdown",
      "metadata": {
        "id": "C0TNd9PmO423"
      },
      "source": [
        "### Cálculo de las métricas de similitud\n",
        "\n",
        "Aplicaremos este cálculo sobre el conjunto de datos de entrenamiento (_train_). "
      ]
    },
    {
      "cell_type": "code",
      "execution_count": null,
      "metadata": {
        "id": "uEnoN-CeO-3o"
      },
      "outputs": [],
      "source": [
        "dict_scores = dict() # dict to save scores"
      ]
    },
    {
      "cell_type": "code",
      "execution_count": null,
      "metadata": {
        "id": "-OzEOXh0PDjs"
      },
      "outputs": [],
      "source": [
        "# Allocation index\n",
        "method = 'allocation'\n",
        "preds_alloc = nx.resource_allocation_index(g_train, ebunch=all_possible_edges)\n",
        "score_alloc = dict()\n",
        "for u, v, p in preds_alloc:\n",
        "    score_alloc[(u,v)] = p\n",
        "#     print('(%s, %s) -> %.8f' % (u, v, p))\n",
        "    \n",
        "dict_scores[method]=score_alloc\n",
        "assert len(score_alloc) == max_num_edges"
      ]
    },
    {
      "cell_type": "code",
      "execution_count": null,
      "metadata": {
        "id": "B4XAjPl6O_ax"
      },
      "outputs": [],
      "source": [
        "# Preferential attachment\n",
        "method = 'pref_attach'\n",
        "preds_pref_att = nx.preferential_attachment(g_train, ebunch=all_possible_edges)\n",
        "score_pref_att = dict()\n",
        "for u, v, p in preds_pref_att:\n",
        "    score_pref_att[(u,v)] = p\n",
        "#     print('(%s, %s) -> %.8f' % (u, v, p))\n",
        "\n",
        "dict_scores[method]=score_pref_att\n",
        "assert len(score_pref_att) == max_num_edges"
      ]
    },
    {
      "cell_type": "markdown",
      "metadata": {
        "id": "U2MszbgUQPpB"
      },
      "source": [
        "A continuación, calcularemos el valor de AUC-ROC empleando el conjunto de datos de test (_test_)."
      ]
    },
    {
      "cell_type": "code",
      "execution_count": null,
      "metadata": {
        "id": "QgF9PV3EQQVg"
      },
      "outputs": [],
      "source": [
        "def compute_auc_score(g_test, edges, scores):\n",
        "    d = {}\n",
        "    test_edges = set(g_test.edges())\n",
        "    for e in edges:\n",
        "        if e in test_edges or (e[1],e[0]) in test_edges:\n",
        "            d[e] = (1, None)\n",
        "        else:\n",
        "            d[e] = (0, None)\n",
        "        if e in scores:\n",
        "            d[e] = (d[e][0],scores[e])\n",
        "        elif (e[1],e[0]) in scores:\n",
        "            d[e] =  (d[e][0],scores[(e[1],e[0])])\n",
        "\n",
        "    y_true, y_score = [],[]\n",
        "    for e in d:\n",
        "        y_true.append(d[e][0])\n",
        "        y_score.append(d[e][1])\n",
        "\n",
        "    auc  = roc_auc_score(y_true,y_score)\n",
        "    return auc"
      ]
    },
    {
      "cell_type": "code",
      "execution_count": null,
      "metadata": {
        "id": "BUpVxazKQVNJ"
      },
      "outputs": [],
      "source": [
        "methods = ['alloc','pref_attch']\n",
        "scores = [score_alloc, score_pref_att]\n",
        "scores_dict = {m: s for m, s in zip(methods,scores)}"
      ]
    },
    {
      "cell_type": "code",
      "execution_count": null,
      "metadata": {
        "id": "KPexVcz7QXlj"
      },
      "outputs": [],
      "source": [
        "with_train_edges = set(g_train.edges())\n",
        "edges2evaluate = []\n",
        "for i in all_possible_edges:\n",
        "    if (i in with_train_edges or (i[1],i[0]) in with_train_edges)==False:\n",
        "        if i[0]<i[1]:\n",
        "            edges2evaluate.append(i) \n",
        "        else:\n",
        "            edges2evaluate.append((i[1],i[0])) "
      ]
    },
    {
      "cell_type": "code",
      "execution_count": null,
      "metadata": {
        "colab": {
          "base_uri": "https://localhost:8080/"
        },
        "id": "-dyPm1nRQb5s",
        "outputId": "eabfa0b4-750c-4e68-9d94-d984a97fc4e2"
      },
      "outputs": [
        {
          "name": "stdout",
          "output_type": "stream",
          "text": [
            "ALLOC      0.6802455907194817\n",
            "Pref Attch 0.8309678605479788\n"
          ]
        }
      ],
      "source": [
        "from sklearn.metrics import roc_auc_score\n",
        "\n",
        "print(\"ALLOC      {}\".format(compute_auc_score(g_test, edges2evaluate, score_alloc)))\n",
        "print(\"Pref Attch {}\".format(compute_auc_score(g_test, edges2evaluate, score_pref_att)))"
      ]
    },
    {
      "cell_type": "code",
      "execution_count": null,
      "metadata": {
        "colab": {
          "base_uri": "https://localhost:8080/"
        },
        "id": "eVf1IfAxQlXU",
        "outputId": "90335e60-f3ac-4962-ae88-b6308eb903f4"
      },
      "outputs": [
        {
          "data": {
            "text/plain": [
              "{'alloc': 0.6802455907194817, 'pref_attch': 0.8309678605479788}"
            ]
          },
          "execution_count": 17,
          "metadata": {},
          "output_type": "execute_result"
        }
      ],
      "source": [
        "auc_dict1 = dict()\n",
        "auc_dict1 = {m: compute_auc_score(g_test, edges2evaluate, s) for m, s in zip(methods,scores)}\n",
        "    \n",
        "auc_dict1"
      ]
    },
    {
      "cell_type": "code",
      "execution_count": null,
      "metadata": {
        "id": "84zbX4ngGdJG"
      },
      "outputs": [],
      "source": []
    }
  ],
  "metadata": {
    "accelerator": "GPU",
    "colab": {
      "provenance": []
    },
    "gpuClass": "standard",
    "kernelspec": {
      "display_name": "Python 3 (ipykernel)",
      "language": "python",
      "name": "python3"
    },
    "language_info": {
      "codemirror_mode": {
        "name": "ipython",
        "version": 3
      },
      "file_extension": ".py",
      "mimetype": "text/x-python",
      "name": "python",
      "nbconvert_exporter": "python",
      "pygments_lexer": "ipython3",
      "version": "3.8.8"
    },
    "toc": {
      "base_numbering": 1,
      "nav_menu": {},
      "number_sections": true,
      "sideBar": true,
      "skip_h1_title": false,
      "title_cell": "Table of Contents",
      "title_sidebar": "Contents",
      "toc_cell": false,
      "toc_position": {},
      "toc_section_display": true,
      "toc_window_display": false
    },
    "varInspector": {
      "cols": {
        "lenName": 16,
        "lenType": 16,
        "lenVar": 40
      },
      "kernels_config": {
        "python": {
          "delete_cmd_postfix": "",
          "delete_cmd_prefix": "del ",
          "library": "var_list.py",
          "varRefreshCmd": "print(var_dic_list())"
        },
        "r": {
          "delete_cmd_postfix": ") ",
          "delete_cmd_prefix": "rm(",
          "library": "var_list.r",
          "varRefreshCmd": "cat(var_dic_list()) "
        }
      },
      "types_to_exclude": [
        "module",
        "function",
        "builtin_function_or_method",
        "instance",
        "_Feature"
      ],
      "window_display": false
    }
  },
  "nbformat": 4,
  "nbformat_minor": 0
}