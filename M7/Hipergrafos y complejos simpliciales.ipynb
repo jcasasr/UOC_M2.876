{
  "cells": [
    {
      "cell_type": "markdown",
      "id": "4bafade3-c176-43fd-b872-ab25d699d5a2",
      "metadata": {
        "id": "4bafade3-c176-43fd-b872-ab25d699d5a2"
      },
      "source": [
        "<div style=\"width: 100%; clear: both;\">\n",
        "    <div style=\"float: left; width: 50%;\">\n",
        "        <img src=\"http://www.uoc.edu/portal/_resources/common/imatges/marca_UOC/UOC_Masterbrand.jpg\" align=\"left\">\n",
        "    </div>\n",
        "</div>\n",
        "<div style=\"float: right; width: 50%;\">\n",
        "    <p style=\"margin: 0; padding-top: 22px; text-align:right;\">M2.876 · Análisis de grafos y redes sociales</p>\n",
        "    <p style=\"margin: 0; text-align:right;\">Máster universitario en Ciencias de Datos (<i>Data Science</i>)</p>\n",
        "    <p style=\"margin: 0; text-align:right; padding-button: 100px;\">Estudios de Informática, Multimedia y Telecomunicaciones</p>\n",
        "</div>\n",
        "<div style=\"width: 100%; clear: both;\"></div>\n",
        "<div style=\"width:100%;\">&nbsp;</div>"
      ]
    },
    {
      "cell_type": "markdown",
      "id": "90d2c462-fb20-43e7-947e-684cc47927fa",
      "metadata": {
        "id": "90d2c462-fb20-43e7-947e-684cc47927fa"
      },
      "source": [
        "# Hipergrafos y complejos simpliciales\n",
        "\n",
        "En este _notebook_ revisaremos y aplicaremos los conocimientos relacionados con los hipergrafos y los complejos simpliciales."
      ]
    },
    {
      "cell_type": "markdown",
      "id": "acbfc1ec-1ca6-46b7-8cd2-6028eb8c641b",
      "metadata": {
        "id": "acbfc1ec-1ca6-46b7-8cd2-6028eb8c641b"
      },
      "source": [
        "## Carga de librerías\n",
        "\n",
        "En la siguiente celda se deben cargar todas las librerías necesarias para ejecutar este ejemplo."
      ]
    },
    {
      "cell_type": "code",
      "execution_count": null,
      "id": "fa3dc39a-edb6-4d06-b18f-f20911295347",
      "metadata": {
        "id": "fa3dc39a-edb6-4d06-b18f-f20911295347"
      },
      "outputs": [],
      "source": [
        "# Librerías básicas\n",
        "import networkx as nx\n",
        "import matplotlib.pyplot as plt\n",
        "import numpy as np\n",
        "import random\n",
        "\n",
        "%matplotlib inline"
      ]
    },
    {
      "cell_type": "markdown",
      "id": "45984289-d5cb-4c02-9240-f2ca72f90604",
      "metadata": {
        "id": "45984289-d5cb-4c02-9240-f2ca72f90604"
      },
      "source": [
        "Las versiones de librerías que se deben emplear en esta actividad son las siguientes:\n",
        "- NetworkX ver. 2.8.6\n",
        "- Numpy ver. 1.23.3"
      ]
    },
    {
      "cell_type": "code",
      "execution_count": null,
      "id": "41ce6768-254c-4ecc-bafa-ab4f172b571d",
      "metadata": {
        "id": "41ce6768-254c-4ecc-bafa-ab4f172b571d",
        "outputId": "22511b3e-692d-4ffd-b595-da61ffaa08ce"
      },
      "outputs": [
        {
          "name": "stdout",
          "output_type": "stream",
          "text": [
            "NetworkX ver. 2.8.4\n",
            "Numpy    ver. 1.21.5\n"
          ]
        }
      ],
      "source": [
        "# Comprobar las versiones\n",
        "print(\"NetworkX ver. {}\".format(nx.__version__))\n",
        "print(\"Numpy    ver. {}\".format(np.__version__))"
      ]
    },
    {
      "cell_type": "markdown",
      "id": "69ea05d8-714f-47db-b0a5-c028cb4d8f7b",
      "metadata": {
        "id": "69ea05d8-714f-47db-b0a5-c028cb4d8f7b"
      },
      "source": [
        "## 1. Carga del conjunto de datos\n",
        "\n",
        "En esta actividad vamos a trabajar con un conjunto de datos que proviene de dos redes diferentes. Este conjunto de datos, que se encuentra disponible en la carpeta `data` adjunta al enunciado, está formado por los ficheros:\n",
        "\n",
        "- `layer1.edgelist`: contiene todas las aristas y sus respectivos pesos de un layer de nuestra red. \n",
        "- `layer2.edgelist`: contiene todas las aristas y sus respectivos pesos de un layer de nuestra red."
      ]
    },
    {
      "cell_type": "markdown",
      "id": "1ec3b1d3-9a71-4960-bccd-95c9b7d5df28",
      "metadata": {
        "id": "1ec3b1d3-9a71-4960-bccd-95c9b7d5df28"
      },
      "source": [
        "### 1.1. Importación de los datos y creación del grafo\n",
        "\n",
        "Usando los dos layers proporcionados, correspondientes a una red multiplex, construiremos un grafo **simétrico** (no dirigido) y **ponderado**. \n",
        "\n",
        "En caso DE que una arista se encuentre en ambos layers, su peso asociado será la suma de los pesos de cada layer. "
      ]
    },
    {
      "cell_type": "markdown",
      "id": "24afd0c9",
      "metadata": {
        "id": "24afd0c9"
      },
      "source": [
        "Empleamos la función `read_edgelist` de la librería `NetworkX` para implementar la lectura y carga de las capas (_layers_) y generación de la red.\n",
        "\n",
        "El formato de los ficheros de entrada es el siguiente:\n",
        "- 0 1 {'weight': 0.3}\n",
        "- 0 2 {'weight': 0.4}\n",
        "- 0 3 {'weight': 0.2}\n",
        "\n",
        "Es decir, línea del fichero de entrada representa una arista en el siguiente formato: \n",
        "- `nodo origen` `nodo destino` {'weight': `peso arista`}"
      ]
    },
    {
      "cell_type": "code",
      "execution_count": null,
      "id": "2ec12487",
      "metadata": {
        "id": "2ec12487",
        "outputId": "263580b4-f3e7-4cbe-cc0b-bdff3097b97c"
      },
      "outputs": [
        {
          "name": "stdout",
          "output_type": "stream",
          "text": [
            "layer1: num nodes 100, num edges 930\n",
            "layer2: num nodes 98, num edges 260\n"
          ]
        }
      ],
      "source": [
        "file_layer1 = \"data/layer1.edgelist\"\n",
        "file_layer2 = \"data/layer2.edgelist\"\n",
        "\n",
        "F1 = nx.read_edgelist(file_layer1)\n",
        "F2 = nx.read_edgelist(file_layer2)\n",
        "\n",
        "print('layer1: num nodes {}, num edges {}'.format(nx.number_of_nodes(F1),nx.number_of_edges(F1)))\n",
        "print('layer2: num nodes {}, num edges {}'.format(nx.number_of_nodes(F2),nx.number_of_edges(F2)))"
      ]
    },
    {
      "cell_type": "code",
      "execution_count": null,
      "id": "054e4e99",
      "metadata": {
        "id": "054e4e99",
        "outputId": "9ea90de8-622e-4023-e497-4d41cc218e55"
      },
      "outputs": [
        {
          "name": "stdout",
          "output_type": "stream",
          "text": [
            "nodes intersection: 78\n",
            "edges intersection: 0\n"
          ]
        }
      ],
      "source": [
        "print('nodes intersection: {}'.format(len(set(F1.nodes()).intersection(set(F2.nodes())))))\n",
        "print('edges intersection: {}'.format(len(set(F1.edges()).intersection(set(F2.edges())))))"
      ]
    },
    {
      "cell_type": "markdown",
      "id": "84c12acc-d460-4bb9-a82c-1838537fe2ad",
      "metadata": {
        "id": "84c12acc-d460-4bb9-a82c-1838537fe2ad"
      },
      "source": [
        "Podemos observar que el número de nodos no es el mismo en ambas redes, y que el número de aristas difiere sensiblemente.\n",
        "\n",
        "A partir de los datos de ambas capas, crearemos la red multiplex en el siguiente código:"
      ]
    },
    {
      "cell_type": "code",
      "execution_count": null,
      "id": "c45a631a",
      "metadata": {
        "id": "c45a631a",
        "outputId": "da590320-8e2d-437c-a14e-640b8309e80c"
      },
      "outputs": [
        {
          "name": "stdout",
          "output_type": "stream",
          "text": [
            "G: num nodes 120, num edges 1190\n"
          ]
        }
      ],
      "source": [
        "# join network\n",
        "edg1 = [(a,b,c['weight']) for a,b,c in F1.edges(data=True)]\n",
        "edg2 = [(a,b,c['weight']) for a,b,c in F2.edges(data=True)]\n",
        "\n",
        "G = nx.Graph()\n",
        "G.add_weighted_edges_from(edg1)\n",
        "G.add_weighted_edges_from(edg2)\n",
        "\n",
        "print('G: num nodes {}, num edges {}'.format(nx.number_of_nodes(G),nx.number_of_edges(G)))"
      ]
    },
    {
      "cell_type": "markdown",
      "id": "9b0d590d",
      "metadata": {
        "id": "9b0d590d"
      },
      "source": [
        "## 2. Complejos simpliciales"
      ]
    },
    {
      "cell_type": "markdown",
      "id": "92ae7392",
      "metadata": {
        "id": "92ae7392"
      },
      "source": [
        "En esta sección se mostrará cómo crear una función para calcular el **número de triángulos** dada una red **ponderada** (_weighted_) y un **umbral**. Dicha función, retornará una tupla con el número de tripletes y una lista con los tripletes encontrados."
      ]
    },
    {
      "cell_type": "code",
      "execution_count": null,
      "id": "c1140f33",
      "metadata": {
        "id": "c1140f33"
      },
      "outputs": [],
      "source": [
        "def compute_triplets(graph, th=None):\n",
        "    \"\"\"\n",
        "    Calcula el número de triángulos dada una red ponderada (weighted) y un umbral\n",
        "    \n",
        "    PARAMETERS:\n",
        "    graph: El grafo\n",
        "    th: El umbral\n",
        "    \n",
        "    RETURNS:\n",
        "    Una tupla formada por: el número de triángulos y una lista con los triángulos\n",
        "    \"\"\"\n",
        "    if th==None:\n",
        "        edge_list = list(graph.edges())\n",
        "    else:\n",
        "        edge_list = [(a,b) for a,b,c in graph.edges(data=True) if c['weight']<=th]\n",
        "    \n",
        "    ordered_list = [] # here we will store the edges as (a,b) where a<b always\n",
        "    for a,b in edge_list:\n",
        "        if a<b:\n",
        "            ordered_list.append((a,b))\n",
        "        else:\n",
        "            ordered_list.append((b,a))\n",
        "\n",
        "    ordered_list = set(ordered_list) # we want fast queries if possible\n",
        "\n",
        "    triangles = set()\n",
        "    for a,b in ordered_list:\n",
        "        for c,d in ordered_list:\n",
        "            if c>b:\n",
        "                continue # as a<b<c<d it is impossible to form a triangle\n",
        "            if a==c:\n",
        "                # is a,b,d a triangle?\n",
        "                x,y = (b,d) if b<d else (d,b) # ordered pair\n",
        "                if (x,y) in ordered_list:\n",
        "                    triangles.add((a,x,y))\n",
        "\n",
        "    return (len(triangles), list(triangles))"
      ]
    },
    {
      "cell_type": "markdown",
      "id": "d3f41a55-01bd-4f3a-991b-03c54a97f359",
      "metadata": {
        "id": "d3f41a55-01bd-4f3a-991b-03c54a97f359"
      },
      "source": [
        "Para analizar el umbral (_threshold_), emplearemos todos los valores entre 0 y 1 con intervalos de 0.1."
      ]
    },
    {
      "cell_type": "code",
      "execution_count": null,
      "id": "b79ee07b",
      "metadata": {
        "id": "b79ee07b",
        "outputId": "04c17425-3225-4b85-b7c3-d20e6c6c5e79"
      },
      "outputs": [
        {
          "name": "stdout",
          "output_type": "stream",
          "text": [
            "th 0.00, triplets: 0\n",
            "th 0.10, triplets: 2\n",
            "th 0.20, triplets: 17\n",
            "th 0.30, triplets: 99\n",
            "th 0.40, triplets: 365\n",
            "th 0.50, triplets: 782\n",
            "th 0.60, triplets: 1413\n",
            "th 0.70, triplets: 2238\n",
            "th 0.80, triplets: 3575\n",
            "th 0.90, triplets: 5305\n",
            "th 1.00, triplets: 6414\n"
          ]
        }
      ],
      "source": [
        "triplets = []\n",
        "\n",
        "for th in np.linspace(start=0, stop=1, num=11):\n",
        "    a, _ = compute_triplets(G, th)\n",
        "    triplets.append((th, a))\n",
        "    print('th {:.2f}, triplets: {}'.format(th,a))"
      ]
    }
  ],
  "metadata": {
    "kernelspec": {
      "display_name": "Python 3 (ipykernel)",
      "language": "python",
      "name": "python3"
    },
    "language_info": {
      "codemirror_mode": {
        "name": "ipython",
        "version": 3
      },
      "file_extension": ".py",
      "mimetype": "text/x-python",
      "name": "python",
      "nbconvert_exporter": "python",
      "pygments_lexer": "ipython3",
      "version": "3.8.8"
    },
    "toc": {
      "base_numbering": 1,
      "nav_menu": {},
      "number_sections": true,
      "sideBar": true,
      "skip_h1_title": false,
      "title_cell": "Table of Contents",
      "title_sidebar": "Contents",
      "toc_cell": false,
      "toc_position": {
        "height": "calc(100% - 180px)",
        "left": "10px",
        "top": "150px",
        "width": "307px"
      },
      "toc_section_display": true,
      "toc_window_display": true
    },
    "varInspector": {
      "cols": {
        "lenName": 16,
        "lenType": 16,
        "lenVar": 40
      },
      "kernels_config": {
        "python": {
          "delete_cmd_postfix": "",
          "delete_cmd_prefix": "del ",
          "library": "var_list.py",
          "varRefreshCmd": "print(var_dic_list())"
        },
        "r": {
          "delete_cmd_postfix": ") ",
          "delete_cmd_prefix": "rm(",
          "library": "var_list.r",
          "varRefreshCmd": "cat(var_dic_list()) "
        }
      },
      "types_to_exclude": [
        "module",
        "function",
        "builtin_function_or_method",
        "instance",
        "_Feature"
      ],
      "window_display": false
    },
    "colab": {
      "provenance": []
    }
  },
  "nbformat": 4,
  "nbformat_minor": 5
}