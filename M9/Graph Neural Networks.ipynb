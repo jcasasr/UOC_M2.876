{
  "cells": [
    {
      "cell_type": "markdown",
      "metadata": {
        "id": "_8vfsjOnImbh"
      },
      "source": [
        "<div style=\"width: 100%; clear: both;\">\n",
        "    <div style=\"float: left; width: 50%;\">\n",
        "        <img src=\"http://www.uoc.edu/portal/_resources/common/imatges/marca_UOC/UOC_Masterbrand.jpg\" align=\"left\">\n",
        "    </div>\n",
        "</div>\n",
        "<div style=\"float: right; width: 50%;\">\n",
        "    <p style=\"margin: 0; padding-top: 22px; text-align:right;\">M2.876 · Análisis de grafos y redes sociales</p>\n",
        "    <p style=\"margin: 0; text-align:right;\">Máster universitario en Ciencias de Datos (<i>Data Science</i>)</p>\n",
        "    <p style=\"margin: 0; text-align:right; padding-button: 100px;\">Estudios de Informática, Multimedia y Telecomunicaciones</p>\n",
        "</div>\n",
        "<div style=\"width: 100%; clear: both;\"></div>\n",
        "<div style=\"width:100%;\">&nbsp;</div>"
      ]
    },
    {
      "cell_type": "markdown",
      "metadata": {
        "id": "Mer3tBC9J1a6"
      },
      "source": [
        "# Predicción de enlaces utilizando *graph neural networks* (GNN)\n",
        "\n",
        "En este ejemplo vamos a utilizar redes neuronales para codificar la información topológica de la red y la información relativa a los nodos para entrenar un modelo que sea capaz de predecir los nodos de una red. \n",
        "\n",
        "Pueden aparecer conceptos transversales entre *complex networks* y *deep learning*. Se recomienda revisar la bibliografía y los enlaces que se proporcionan a lo largo de la actividad:\n",
        "\n",
        "* https://github.com/pyg-team/pytorch_geometric\n",
        "* https://www.deeplearningbook.org/"
      ]
    },
    {
      "cell_type": "markdown",
      "metadata": {
        "id": "i9j-tRPUJOat"
      },
      "source": [
        "## Instalación de librerías\n",
        "\n",
        "Se recomienda ejecutar esta PEC en un entorno virtual. \n",
        "\n",
        "**Nota**: en ocasiones, la librería `torch` puede ser difícil de instalar debido a las fuertes dependencias que tiene. Se proporcionan las instrucciones para instalar estas librerías en un entorno [Google Colab](https://colab.research.google.com/)."
      ]
    },
    {
      "cell_type": "code",
      "execution_count": null,
      "metadata": {
        "colab": {
          "base_uri": "https://localhost:8080/",
          "height": 1000
        },
        "id": "Gqtqxh9rlowE",
        "outputId": "ff7c3273-ab99-4857-80a7-9a5e3d5a928a"
      },
      "outputs": [
        {
          "name": "stdout",
          "output_type": "stream",
          "text": [
            "\u001b[33mWARNING: Skipping torch-scatter as it is not installed.\u001b[0m\n",
            "\u001b[33mWARNING: Skipping torch-sparse as it is not installed.\u001b[0m\n",
            "\u001b[33mWARNING: Skipping torch-geometric as it is not installed.\u001b[0m\n",
            "\u001b[33mWARNING: Skipping torch-cluster as it is not installed.\u001b[0m\n",
            "Looking in indexes: https://pypi.org/simple, https://us-python.pkg.dev/colab-wheels/public/simple/\n",
            "Looking in links: https://data.pyg.org/whl/torch-1.13.0+cu116.html\n",
            "Collecting torch-scatter\n",
            "  Downloading https://data.pyg.org/whl/torch-1.13.0%2Bcu116/torch_scatter-2.1.0%2Bpt113cu116-cp38-cp38-linux_x86_64.whl (9.4 MB)\n",
            "\u001b[K     |████████████████████████████████| 9.4 MB 43.2 MB/s \n",
            "\u001b[?25hInstalling collected packages: torch-scatter\n",
            "Successfully installed torch-scatter-2.1.0+pt113cu116\n",
            "Looking in indexes: https://pypi.org/simple, https://us-python.pkg.dev/colab-wheels/public/simple/\n",
            "Looking in links: https://data.pyg.org/whl/torch-1.13.0+cu116.html\n",
            "Collecting torch-sparse\n",
            "  Downloading https://data.pyg.org/whl/torch-1.13.0%2Bcu116/torch_sparse-0.6.15%2Bpt113cu116-cp38-cp38-linux_x86_64.whl (4.6 MB)\n",
            "\u001b[K     |████████████████████████████████| 4.6 MB 28.3 MB/s \n",
            "\u001b[?25hRequirement already satisfied: scipy in /usr/local/lib/python3.8/dist-packages (from torch-sparse) (1.7.3)\n",
            "Requirement already satisfied: numpy<1.23.0,>=1.16.5 in /usr/local/lib/python3.8/dist-packages (from scipy->torch-sparse) (1.21.6)\n",
            "Installing collected packages: torch-sparse\n",
            "Successfully installed torch-sparse-0.6.15+pt113cu116\n",
            "Looking in indexes: https://pypi.org/simple, https://us-python.pkg.dev/colab-wheels/public/simple/\n",
            "Looking in links: https://data.pyg.org/whl/torch-1.13.0+cu116.html\n",
            "Collecting torch-cluster\n",
            "  Downloading https://data.pyg.org/whl/torch-1.13.0%2Bcu116/torch_cluster-1.6.0%2Bpt113cu116-cp38-cp38-linux_x86_64.whl (3.2 MB)\n",
            "\u001b[K     |████████████████████████████████| 3.2 MB 23.8 MB/s \n",
            "\u001b[?25hRequirement already satisfied: scipy in /usr/local/lib/python3.8/dist-packages (from torch-cluster) (1.7.3)\n",
            "Requirement already satisfied: numpy<1.23.0,>=1.16.5 in /usr/local/lib/python3.8/dist-packages (from scipy->torch-cluster) (1.21.6)\n",
            "Installing collected packages: torch-cluster\n",
            "Successfully installed torch-cluster-1.6.0+pt113cu116\n",
            "Looking in indexes: https://pypi.org/simple, https://us-python.pkg.dev/colab-wheels/public/simple/\n",
            "Collecting git+https://github.com/pyg-team/pytorch_geometric.git\n",
            "  Cloning https://github.com/pyg-team/pytorch_geometric.git to /tmp/pip-req-build-49apy9sl\n",
            "  Running command git clone -q https://github.com/pyg-team/pytorch_geometric.git /tmp/pip-req-build-49apy9sl\n",
            "Requirement already satisfied: tqdm in /usr/local/lib/python3.8/dist-packages (from torch-geometric==2.2.0) (4.64.1)\n",
            "Requirement already satisfied: numpy in /usr/local/lib/python3.8/dist-packages (from torch-geometric==2.2.0) (1.21.6)\n",
            "Requirement already satisfied: scipy in /usr/local/lib/python3.8/dist-packages (from torch-geometric==2.2.0) (1.7.3)\n",
            "Requirement already satisfied: jinja2 in /usr/local/lib/python3.8/dist-packages (from torch-geometric==2.2.0) (2.11.3)\n",
            "Requirement already satisfied: requests in /usr/local/lib/python3.8/dist-packages (from torch-geometric==2.2.0) (2.23.0)\n",
            "Requirement already satisfied: pyparsing in /usr/local/lib/python3.8/dist-packages (from torch-geometric==2.2.0) (3.0.9)\n",
            "Collecting torchmetrics\n",
            "  Downloading torchmetrics-0.11.0-py3-none-any.whl (512 kB)\n",
            "\u001b[K     |████████████████████████████████| 512 kB 30.5 MB/s \n",
            "\u001b[?25hRequirement already satisfied: scikit-learn in /usr/local/lib/python3.8/dist-packages (from torch-geometric==2.2.0) (1.0.2)\n",
            "Collecting psutil>=5.8.0\n",
            "  Downloading psutil-5.9.4-cp36-abi3-manylinux_2_12_x86_64.manylinux2010_x86_64.manylinux_2_17_x86_64.manylinux2014_x86_64.whl (280 kB)\n",
            "\u001b[K     |████████████████████████████████| 280 kB 78.9 MB/s \n",
            "\u001b[?25hRequirement already satisfied: MarkupSafe>=0.23 in /usr/local/lib/python3.8/dist-packages (from jinja2->torch-geometric==2.2.0) (2.0.1)\n",
            "Requirement already satisfied: chardet<4,>=3.0.2 in /usr/local/lib/python3.8/dist-packages (from requests->torch-geometric==2.2.0) (3.0.4)\n",
            "Requirement already satisfied: idna<3,>=2.5 in /usr/local/lib/python3.8/dist-packages (from requests->torch-geometric==2.2.0) (2.10)\n",
            "Requirement already satisfied: certifi>=2017.4.17 in /usr/local/lib/python3.8/dist-packages (from requests->torch-geometric==2.2.0) (2022.12.7)\n",
            "Requirement already satisfied: urllib3!=1.25.0,!=1.25.1,<1.26,>=1.21.1 in /usr/local/lib/python3.8/dist-packages (from requests->torch-geometric==2.2.0) (1.24.3)\n",
            "Requirement already satisfied: joblib>=0.11 in /usr/local/lib/python3.8/dist-packages (from scikit-learn->torch-geometric==2.2.0) (1.2.0)\n",
            "Requirement already satisfied: threadpoolctl>=2.0.0 in /usr/local/lib/python3.8/dist-packages (from scikit-learn->torch-geometric==2.2.0) (3.1.0)\n",
            "Requirement already satisfied: typing-extensions in /usr/local/lib/python3.8/dist-packages (from torchmetrics->torch-geometric==2.2.0) (4.4.0)\n",
            "Requirement already satisfied: packaging in /usr/local/lib/python3.8/dist-packages (from torchmetrics->torch-geometric==2.2.0) (21.3)\n",
            "Requirement already satisfied: torch>=1.8.1 in /usr/local/lib/python3.8/dist-packages (from torchmetrics->torch-geometric==2.2.0) (1.13.0+cu116)\n",
            "Building wheels for collected packages: torch-geometric\n",
            "  Building wheel for torch-geometric (setup.py) ... \u001b[?25l\u001b[?25hdone\n",
            "  Created wheel for torch-geometric: filename=torch_geometric-2.2.0-py3-none-any.whl size=801219 sha256=22308b24ba608d1b33c8f8b014d451d890b607939654a8f57b153f8efaa69f60\n",
            "  Stored in directory: /tmp/pip-ephem-wheel-cache-hknoobvp/wheels/ba/e1/8e/28297c3201c884d3ea8c47ba71a9e71e547e556c0caa9cf5a2\n",
            "Successfully built torch-geometric\n",
            "Installing collected packages: torchmetrics, psutil, torch-geometric\n",
            "  Attempting uninstall: psutil\n",
            "    Found existing installation: psutil 5.4.8\n",
            "    Uninstalling psutil-5.4.8:\n",
            "      Successfully uninstalled psutil-5.4.8\n",
            "Successfully installed psutil-5.9.4 torch-geometric-2.2.0 torchmetrics-0.11.0\n"
          ]
        },
        {
          "data": {
            "application/vnd.colab-display-data+json": {
              "pip_warning": {
                "packages": [
                  "psutil"
                ]
              }
            }
          },
          "metadata": {},
          "output_type": "display_data"
        },
        {
          "name": "stdout",
          "output_type": "stream",
          "text": [
            "Looking in indexes: https://pypi.org/simple, https://us-python.pkg.dev/colab-wheels/public/simple/\n",
            "Collecting scipy==1.8.0\n",
            "  Downloading scipy-1.8.0-cp38-cp38-manylinux_2_17_x86_64.manylinux2014_x86_64.whl (41.6 MB)\n",
            "\u001b[K     |████████████████████████████████| 41.6 MB 1.3 MB/s \n",
            "\u001b[?25hRequirement already satisfied: numpy<1.25.0,>=1.17.3 in /usr/local/lib/python3.8/dist-packages (from scipy==1.8.0) (1.21.6)\n",
            "Installing collected packages: scipy\n",
            "  Attempting uninstall: scipy\n",
            "    Found existing installation: scipy 1.7.3\n",
            "    Uninstalling scipy-1.7.3:\n",
            "      Successfully uninstalled scipy-1.7.3\n",
            "Successfully installed scipy-1.8.0\n"
          ]
        }
      ],
      "source": [
        "# Run this code in colab environment \n",
        "import torch\n",
        "!pip uninstall torch-scatter torch-sparse torch-geometric torch-cluster  --y\n",
        "!pip install torch-scatter -f https://data.pyg.org/whl/torch-{torch.__version__}.html\n",
        "!pip install torch-sparse -f https://data.pyg.org/whl/torch-{torch.__version__}.html\n",
        "!pip install torch-cluster -f https://data.pyg.org/whl/torch-{torch.__version__}.html\n",
        "!pip install git+https://github.com/pyg-team/pytorch_geometric.git\n",
        "!pip install scipy==1.8.0"
      ]
    },
    {
      "cell_type": "markdown",
      "metadata": {
        "id": "0xp592MGJJwz"
      },
      "source": [
        "## Carga de librerías\n",
        "\n",
        "En la siguiente celda se deben cargar todas las librerías necesarias para ejecutar la actividad."
      ]
    },
    {
      "cell_type": "code",
      "execution_count": null,
      "metadata": {
        "id": "civqV7fvx64Z"
      },
      "outputs": [],
      "source": [
        "import networkx as nx\n",
        "import pandas as pd\n",
        "import numpy as np\n",
        "import scipy.sparse as sp\n",
        "import json\n",
        "import collections\n",
        "import matplotlib.pyplot as plt\n",
        "\n",
        "from torch_geometric.data import Data\n",
        "from torch_geometric.utils import to_networkx, from_networkx\n",
        "from sklearn.metrics import roc_auc_score\n",
        "from torch_geometric.transforms import RandomLinkSplit\n",
        "\n",
        "import random"
      ]
    },
    {
      "cell_type": "markdown",
      "metadata": {
        "id": "cL1mGl_UY4LF"
      },
      "source": [
        "## Parte 1. Carga de *features* para utilizarlos en PyG\n",
        "\n",
        "En este apartado vamos a explorar las redes neuronales en grafos utilizando la librería `PyG`. Esta librería está, en parte, basada en Pytorch y Networkx, así que su conocimiento nos facilitará la tarea. "
      ]
    },
    {
      "cell_type": "markdown",
      "metadata": {
        "id": "-06dVzgeJ1a-"
      },
      "source": [
        "En primer lugar, cargaremos el fichero `json` que contiene los *features* de cada nodo. La descripción es numérica y hace referencia a una lista que no se ha proporcionado ni es necesaria. Cada nodo tendrá una serie de números asociados, por ejemplo:\n",
        "> `\"836\": [1521, 1234, 12]`\n",
        "\n",
        "Esto indica que el nodo 836 tiene asociadas las características: 1521, 1234, 12.\n",
        "\n",
        "A continuación, enumeramos los pasos que vamos a realizar:\n",
        "\n",
        "1. Cargaremos los _features_ mediante el algoritmo _one hot encoding_ para obtener una matriz de `numpy` con dimensiones 4648x2148, donde 4648 corresponde al número de nodos totales, mientras que 2148 corresponde al número total de posibles features. \n",
        "- La matriz tendrá un 1 si el nodo *x* tiene el *feature* B y será 0 en el resto de los casos.\n",
        "\n",
        "2. Utilizaremos la función [Data](https://pytorch-geometric.readthedocs.io/en/latest/modules/data.html#torch_geometric.data.Data) para obtener el objeto `data`. \n",
        "- Para ello tendremos que utilizar `edge_index` en el formato adecuado mediante la función proporcionada `get_edge_index_from_G`.\n",
        "\n",
        "3. Utilizaremos la función `to_networkx` para obtener un grafo de NetworkX (con atributos en los nodos) gracias al objeto creado en el apartado anterior. Utilizaremos este grafo y la función [from_networkx](https://pytorch-geometric.readthedocs.io/en/latest/modules/utils.html?highlight=from_networkx#torch_geometric.utils.from_networkx) para generar un objeto grafo de la librería PyG.\n",
        "\n",
        "4. La librería PyG siempre considera los grafos como dirigidos (aunque el grafo del ejercicio es no dirigido).\n",
        "\n",
        "* El resultado debe ser un objeto de la forma:\n",
        "> `Data(x=[4648, 2148], edge_index=[2, 118764])`\n",
        "\n",
        "**Bibliografía**:\n",
        "* One hot encoding. https://www.educative.io/blog/one-hot-encoding"
      ]
    },
    {
      "cell_type": "code",
      "execution_count": null,
      "metadata": {
        "id": "Gk0C3Q8Ufa_e"
      },
      "outputs": [],
      "source": [
        "def get_edge_index_from_G(g):\n",
        "  a = []\n",
        "  b = []\n",
        "  for item in g.edges:\n",
        "    a.append(int(item[0]))\n",
        "    b.append(int(item[1]))\n",
        "  return torch.tensor([a,b])"
      ]
    },
    {
      "cell_type": "code",
      "execution_count": null,
      "metadata": {
        "colab": {
          "base_uri": "https://localhost:8080/"
        },
        "id": "r3AT1Holy6lk",
        "outputId": "a45aab1b-740b-4609-ff74-22a2a34fda6c"
      },
      "outputs": [
        {
          "name": "stdout",
          "output_type": "stream",
          "text": [
            "Shape of matrix: (4648, 3170)\n",
            "Shape of matrix: (4648, 2148)\n"
          ]
        },
        {
          "data": {
            "text/plain": [
              "array([[0., 0., 0., ..., 0., 0., 0.],\n",
              "       [0., 0., 0., ..., 0., 0., 0.],\n",
              "       [0., 0., 0., ..., 0., 0., 0.],\n",
              "       ...,\n",
              "       [0., 0., 0., ..., 0., 0., 0.],\n",
              "       [0., 0., 0., ..., 0., 0., 0.],\n",
              "       [0., 0., 0., ..., 0., 0., 0.]])"
            ]
          },
          "execution_count": 60,
          "metadata": {},
          "output_type": "execute_result"
        }
      ],
      "source": [
        "f = open(\"data/ES_features.json\") \n",
        "dict_features = json.load(f) # This is a dictionary with features of each node\n",
        "f.close()\n",
        "\n",
        "# Sort dictionary by key\n",
        "dict_features = collections.OrderedDict(sorted(dict_features.items()))\n",
        "\n",
        "# We do one hot enconding\n",
        "# First we get the number of total features we have\n",
        "lol = list(dict_features.values()) # Convert dict to list of list\n",
        "result = sum(lol, []) # Join the lists\n",
        "number_of_features = max(set(result)) # Get the max number in features\n",
        "number_nodes = nx.number_of_nodes(G)\n",
        "# Now we do one hot encoding\n",
        "mat = sp.dok_matrix((number_nodes, number_of_features+1), dtype=np.int8) # Build empty matrix\n",
        "\n",
        "# It is 1 if feature is present\n",
        "for user_id, feature in dict_features.items():\n",
        "    mat[int(user_id), feature] = 1.0\n",
        "\n",
        "# Convert to full array\n",
        "mat = mat.toarray()\n",
        "mat = mat.astype(\"double\")\n",
        "print(\"Shape of matrix: {}\".format(mat.shape))\n",
        "\n",
        "# Due to the process of build the matrix some columns are zero, we can just delete them:\n",
        "idx = np.argwhere(np.all(mat[..., :] == 0, axis=0))\n",
        "mat = np.delete(mat, idx, axis=1)\n",
        "print(\"Shape of matrix: {}\".format(mat.shape))\n",
        "mat"
      ]
    },
    {
      "cell_type": "code",
      "execution_count": null,
      "metadata": {
        "id": "GaE8iVOsaCOP"
      },
      "outputs": [],
      "source": [
        "edge_index = get_edge_index_from_G(G)\n",
        "data_grafo = Data(edge_index=edge_index, x=mat)"
      ]
    },
    {
      "cell_type": "code",
      "execution_count": null,
      "metadata": {
        "id": "CVvr27mNZyGY"
      },
      "outputs": [],
      "source": [
        "H = to_networkx(data_grafo, node_attrs=['x'])\n",
        "H = H.to_undirected() # TO undirected graph\n",
        "graph = from_networkx(H)\n",
        "graph.x = graph.x.type(torch.FloatTensor) # Set proper unit"
      ]
    },
    {
      "cell_type": "code",
      "execution_count": null,
      "metadata": {
        "colab": {
          "base_uri": "https://localhost:8080/"
        },
        "id": "RFMi6SaP3S8r",
        "outputId": "9b568dc1-c425-45b0-e31c-f8550c25aeea"
      },
      "outputs": [
        {
          "data": {
            "text/plain": [
              "Data(x=[4648, 2148], edge_index=[2, 118764])"
            ]
          },
          "execution_count": 63,
          "metadata": {},
          "output_type": "execute_result"
        }
      ],
      "source": [
        "# DGL GRAPH IS ALWAYS DIRECTED SO THE NUMBER OF EDGES HAVE BEEN DUPLICATED\n",
        "graph"
      ]
    },
    {
      "cell_type": "markdown",
      "metadata": {
        "id": "vfECiBVh1ZLI"
      },
      "source": [
        "## Parte 2. Dividir el grafo en *train*, *test* y validación\n",
        "\n",
        "Necesitaremos dividir el grafo en *train*, *test* y validación. Sin embargo, para el caso de las redes neuronales en grafos existen algunas particularidades especiales. \n",
        "\n",
        "La primera es que la red no se entrenará únicamente con la topología de la red, sino que se entrenará con: \n",
        "* Los *features* de los nodos.\n",
        "* Los enlaces entre nodos.\n",
        "* Otros enlaces negativos que crearemos y que son ejemplos de enlaces que no existen. De esa forma, la red aprenderá a diferenciar ejemplos positivos (enlaces que existen) de ejemplos negativos (enlaces inexistentes) en función de las características de los nodos. "
      ]
    },
    {
      "cell_type": "markdown",
      "metadata": {
        "id": "iar878SiJ1bB"
      },
      "source": [
        "En esta parte: \n",
        "\n",
        "1. Dividiremos utilizando la función [RandomLinkSplit](https://pytorch-geometric.readthedocs.io/en/latest/modules/transforms.html#torch_geometric.transforms.RandomLinkSplit) y dejaremos un 5 % de los enlaces para validación y un 10 % de los enlaces para *test*. \n",
        "* Añadiremos enlaces negativos para el *train* con proporción 1. \n",
        "* Crearemos tres nuevos objetos: `train_data`, `val_data` y `test_data`.\n",
        "\n",
        "2. Exploraremos los objetos anteriores y justificaremos las dimensiones de sus variables: `x`, `edge_index`, `edge_label` y `edge_label_index`.\n",
        "\n",
        "**Bibliografía**:\n",
        "\n",
        "Se recomienda leer los siguientes enlaces para responder a los dos apartados anteriores:\n",
        "* https://pytorch-geometric.readthedocs.io/en/latest/modules/transforms.html#torch_geometric.transforms.RandomLinkSplit\n",
        "* https://towardsdatascience.com/graph-neural-networks-with-pyg-on-node-classification-link-prediction-and-anomaly-detection-14aa38fe1275\n",
        "* https://www.youtube.com/watch?v=GAOHM1rVUdw"
      ]
    },
    {
      "cell_type": "code",
      "execution_count": null,
      "metadata": {
        "id": "GUUKHwvOy5zb"
      },
      "outputs": [],
      "source": [
        "# For this part please use:\n",
        "# Validation edges = 0.05\n",
        "# Test edges = 0.1\n",
        "# set is_undirected to True to avoid negative reverse links\n",
        "# Add negative train samples during the split with a ratio of 1\n",
        "\n",
        "split = RandomLinkSplit(\n",
        "    num_val=0.05,\n",
        "    num_test=0.1,\n",
        "    is_undirected=True,\n",
        "    add_negative_train_samples=True,\n",
        "    neg_sampling_ratio=1,\n",
        ")\n",
        "train_data, val_data, test_data = split(graph)"
      ]
    },
    {
      "cell_type": "code",
      "execution_count": null,
      "metadata": {
        "colab": {
          "base_uri": "https://localhost:8080/"
        },
        "id": "AB9gOG8U2Qj-",
        "outputId": "5ea3939e-9525-43b8-f095-06093f2ea183"
      },
      "outputs": [
        {
          "name": "stdout",
          "output_type": "stream",
          "text": [
            "Original graph is Data(x=[4648, 2148], edge_index=[2, 118764]): \n",
            "Train graph is Data(x=[4648, 2148], edge_index=[2, 100950], edge_label=[100950], edge_label_index=[2, 100950]): \n",
            "Validation graph is Data(x=[4648, 2148], edge_index=[2, 100950], edge_label=[5938], edge_label_index=[2, 5938]): \n",
            "Test graph is Data(x=[4648, 2148], edge_index=[2, 106888], edge_label=[11876], edge_label_index=[2, 11876]): \n"
          ]
        }
      ],
      "source": [
        "# Please explore the graph before and after the partitions and explain the numbers you are getting \n",
        "print(\"Original graph is {}: \".format(graph))\n",
        "print(\"Train graph is {}: \".format(train_data))\n",
        "print(\"Validation graph is {}: \".format(val_data))\n",
        "print(\"Test graph is {}: \".format(test_data))"
      ]
    },
    {
      "cell_type": "markdown",
      "metadata": {
        "id": "ecA7IuqQ8ZbV"
      },
      "source": [
        "## Parte 3. Entrenar un modelo de GNN *autoencoder*\n",
        "\n",
        "En este apartado se introduce un modelo de red neuronal compuesto por dos [GCN Convolucionales](https://pytorch-geometric.readthedocs.io/en/latest/modules/nn.html#torch_geometric.nn.conv.GCNConv)."
      ]
    },
    {
      "cell_type": "markdown",
      "metadata": {
        "id": "qHTdjrI2J1bC"
      },
      "source": [
        "A continuación, veremos cómo:\n",
        "\n",
        "1. Completar la función `model` para iniciar el modelo, donde:\n",
        "  - _in channels_ corresponde al número de *features*, \n",
        "  - _hidden channels_ se utilizará 16 y\n",
        "  - _out channels_ se empleará el valor 8.\n",
        "\n",
        "2. Entrenar durante treinta épocas la red neuronal. En cada época mostrar el *loss* en *train*, el ROC AUC *score* en validación y en *test*.\n",
        "\n",
        "3. Representar los valores anteriores (*loss*, ROC AUC de val y *test*) en una gráfica temporal donde el eje *x* es el número de épocas."
      ]
    },
    {
      "cell_type": "code",
      "execution_count": null,
      "metadata": {
        "id": "fZp2jGg_8QGf"
      },
      "outputs": [],
      "source": [
        "## FUNCION PRORPORCIONADA\n",
        "from torch_geometric.nn import GCNConv\n",
        "import torch.nn.functional as F\n",
        "class Net(torch.nn.Module):\n",
        "    def __init__(self, in_channels, hidden_channels, out_channels):\n",
        "        super().__init__()\n",
        "        self.conv1 = GCNConv(in_channels, hidden_channels)\n",
        "        self.conv2 = GCNConv(hidden_channels, out_channels)\n",
        "\n",
        "    def encode(self, x, edge_index):\n",
        "        x = self.conv1(x, edge_index).relu()\n",
        "        x = self.conv2(x, edge_index)\n",
        "        return x\n",
        "\n",
        "    def decode(self, z, edge_label_index):\n",
        "        return (z[edge_label_index[0]] * z[edge_label_index[1]]).sum(dim=-1)\n",
        "\n",
        "\n",
        "def train():\n",
        "    model.train()\n",
        "    optimizer.zero_grad()\n",
        "    z = model.encode(train_data.x, train_data.edge_index)\n",
        "    out = model.decode(z, train_data.edge_label_index).view(-1)\n",
        "    loss = criterion(out, train_data.edge_label)\n",
        "    loss.backward()\n",
        "    optimizer.step()\n",
        "    return loss\n",
        "\n",
        "@torch.no_grad()\n",
        "def test(data):\n",
        "    model.eval()\n",
        "    z = model.encode(data.x, data.edge_index)\n",
        "    out = model.decode(z, data.edge_label_index).view(-1).sigmoid()\n",
        "    return roc_auc_score(data.edge_label.cpu().numpy(), out.cpu().numpy())\n",
        "\n",
        "criterion = torch.nn.BCEWithLogitsLoss()"
      ]
    },
    {
      "cell_type": "code",
      "execution_count": null,
      "metadata": {
        "colab": {
          "base_uri": "https://localhost:8080/"
        },
        "id": "WD0KOi2FCV7k",
        "outputId": "3da861d6-eaf9-4e0a-abd3-40805fbb4940"
      },
      "outputs": [
        {
          "data": {
            "text/plain": [
              "tensor([[ 0.0409, -0.0120,  0.0132,  ..., -0.0455,  0.0032,  0.0103],\n",
              "        [ 0.0670, -0.0237,  0.0247,  ..., -0.1129, -0.0028, -0.0033],\n",
              "        [ 0.0537, -0.0027,  0.0414,  ..., -0.0914, -0.0067,  0.0076],\n",
              "        ...,\n",
              "        [ 0.0748, -0.0146,  0.0371,  ..., -0.0801,  0.0047,  0.0358],\n",
              "        [ 0.0810, -0.0072,  0.0463,  ..., -0.1060,  0.0015,  0.0354],\n",
              "        [ 0.0774, -0.0036,  0.0341,  ..., -0.1086,  0.0264,  0.0247]],\n",
              "       grad_fn=<AddBackward0>)"
            ]
          },
          "execution_count": 109,
          "metadata": {},
          "output_type": "execute_result"
        }
      ],
      "source": [
        "# INICIAR LA RED\n",
        "model = Net(graph.num_features, 16, 8).to(\"cpu\")\n",
        "optimizer = torch.optim.Adam(params=model.parameters(), lr=0.001)\n",
        "model.encode(train_data.x, train_data.edge_index)"
      ]
    },
    {
      "cell_type": "code",
      "execution_count": null,
      "metadata": {
        "colab": {
          "base_uri": "https://localhost:8080/"
        },
        "id": "jd5AIBnh8wVk",
        "outputId": "68f7735f-6077-42ad-dad6-f255ec1eab62"
      },
      "outputs": [
        {
          "name": "stdout",
          "output_type": "stream",
          "text": [
            "Epoch: 000, Loss: 0.6845, Val: 0.8934, Test: 0.8927\n",
            "Epoch: 001, Loss: 0.6760, Val: 0.8951, Test: 0.8941\n",
            "Epoch: 002, Loss: 0.6649, Val: 0.8961, Test: 0.8948\n",
            "Epoch: 003, Loss: 0.6518, Val: 0.8968, Test: 0.8954\n",
            "Epoch: 004, Loss: 0.6379, Val: 0.8973, Test: 0.8958\n",
            "Epoch: 005, Loss: 0.6246, Val: 0.8978, Test: 0.8962\n",
            "Epoch: 006, Loss: 0.6138, Val: 0.8983, Test: 0.8966\n",
            "Epoch: 007, Loss: 0.6071, Val: 0.8987, Test: 0.8970\n",
            "Epoch: 008, Loss: 0.6053, Val: 0.8991, Test: 0.8973\n",
            "Epoch: 009, Loss: 0.6077, Val: 0.8994, Test: 0.8976\n",
            "Epoch: 010, Loss: 0.6117, Val: 0.8997, Test: 0.8979\n",
            "Epoch: 011, Loss: 0.6144, Val: 0.9000, Test: 0.8982\n",
            "Epoch: 012, Loss: 0.6145, Val: 0.9002, Test: 0.8984\n",
            "Epoch: 013, Loss: 0.6122, Val: 0.9004, Test: 0.8987\n",
            "Epoch: 014, Loss: 0.6085, Val: 0.9006, Test: 0.8989\n",
            "Epoch: 015, Loss: 0.6045, Val: 0.9008, Test: 0.8991\n",
            "Epoch: 016, Loss: 0.6010, Val: 0.9009, Test: 0.8992\n",
            "Epoch: 017, Loss: 0.5985, Val: 0.9011, Test: 0.8994\n",
            "Epoch: 018, Loss: 0.5972, Val: 0.9012, Test: 0.8996\n",
            "Epoch: 019, Loss: 0.5968, Val: 0.9013, Test: 0.8997\n",
            "Epoch: 020, Loss: 0.5969, Val: 0.9014, Test: 0.8998\n",
            "Epoch: 021, Loss: 0.5973, Val: 0.9014, Test: 0.9000\n",
            "Epoch: 022, Loss: 0.5973, Val: 0.9015, Test: 0.9001\n",
            "Epoch: 023, Loss: 0.5968, Val: 0.9015, Test: 0.9001\n",
            "Epoch: 024, Loss: 0.5958, Val: 0.9015, Test: 0.9002\n",
            "Epoch: 025, Loss: 0.5945, Val: 0.9016, Test: 0.9002\n",
            "Epoch: 026, Loss: 0.5929, Val: 0.9016, Test: 0.9002\n",
            "Epoch: 027, Loss: 0.5913, Val: 0.9016, Test: 0.9001\n",
            "Epoch: 028, Loss: 0.5898, Val: 0.9017, Test: 0.9001\n",
            "Epoch: 029, Loss: 0.5886, Val: 0.9017, Test: 0.9000\n",
            "Final Test: 0.9000\n"
          ]
        }
      ],
      "source": [
        "# Now we can train the model with train and val\n",
        "# OJO, creo que se produce overfitting porque la gente va variando el negative sampling para evitar esto\n",
        "loss_epoch =  []\n",
        "val_list = []\n",
        "test_list = []\n",
        "best_val_auc = final_test_auc = 0\n",
        "num_epocs = 30\n",
        "for epoch in range(num_epocs):\n",
        "  loss = train()\n",
        "  loss_epoch.append(float(loss.detach()))\n",
        "  val_auc = test(val_data) # AUC of Validation\n",
        "  val_list.append(val_auc)\n",
        "  test_auc = test(test_data) # AUC of test data\n",
        "  test_list.append(test_auc)\n",
        "  if val_auc > best_val_auc:\n",
        "      best_val = val_auc\n",
        "      final_test_auc = test_auc\n",
        "  print(f'Epoch: {epoch:03d}, Loss: {loss:.4f}, Val: {val_auc:.4f}, 'f'Test: {test_auc:.4f}')\n",
        "\n",
        "print(f'Final Test: {final_test_auc:.4f}')"
      ]
    },
    {
      "cell_type": "code",
      "execution_count": null,
      "metadata": {
        "colab": {
          "base_uri": "https://localhost:8080/",
          "height": 297
        },
        "id": "aoiH8yPRGJOl",
        "outputId": "3985fada-db56-4134-91dd-e16065a5376e"
      },
      "outputs": [
        {
          "data": {
            "text/plain": [
              "<matplotlib.legend.Legend at 0x7f420b100820>"
            ]
          },
          "execution_count": 126,
          "metadata": {},
          "output_type": "execute_result"
        },
        {
          "data": {
            "image/png": "[encoded data removed]",
            "text/plain": [
              "<Figure size 432x288 with 2 Axes>"
            ]
          },
          "metadata": {
            "needs_background": "light"
          },
          "output_type": "display_data"
        }
      ],
      "source": [
        "fig, ax = plt.subplots()\n",
        "ax.plot(range(num_epocs), loss_epoch, label=\"Loss\")\n",
        "ax2 = ax.twinx()\n",
        "\n",
        "ax2.plot(range(num_epocs), val_list, label=\"Val AUC\", c=\"g\")\n",
        "ax2.plot(range(num_epocs), test_list, label=\"Test AUC\", c=\"r\")\n",
        "ax.set_xlabel(\"Epochs\")\n",
        "ax.set_ylabel(\"Loss\")\n",
        "ax2.set_ylabel(\"AUC score\")\n",
        "\n",
        "ax.legend()\n",
        "ax2.legend()"
      ]
    },
    {
      "cell_type": "markdown",
      "metadata": {
        "id": "OPwgMzrH_Z7o"
      },
      "source": [
        "## Parte 4. Realizar una predicción sobre los enlaces\n",
        "\n",
        "Vamos a comprobar la bondad del modelo en la predicción de enlaces. "
      ]
    },
    {
      "cell_type": "markdown",
      "metadata": {
        "id": "uh8ACy42FIG-"
      },
      "source": [
        "Seguiremos los siguientes pasos:\n",
        "\n",
        "1. Tomaremos `test_data` y guardaremos en una matriz los enlaces de esta matriz. Tendremos en cuenta que `est_data.edge_index_label` indica si esos enlaces son positivos o negativos, mientras que `test_data.edge_index` contiene todos los enlaces (positivos y negativos). Únicamente nos interesan los positivos.\n",
        "\n",
        "2. Utilizaremos el código proporcionado con la matriz de adyacencia predecida por el modelo para predecir los enlaces más probables. Comprobad cuántos enlaces positivos tiene la matriz *test* y obtened X enlaces más probables predecidos por la matriz de adyacencia. Aquí X es el número de enlaces de test. Obtened una métrica de *accuracy*.\n",
        "\n",
        "Hay que tener en cuenta dos cosas importantes al predecir sobre la matriz de adyacencia:\n",
        "* Eliminar *self-loops*.\n",
        "* Eliminar los enlaces duplicados, ya que la predicción de la red será como si fuera no-dirigida."
      ]
    },
    {
      "cell_type": "code",
      "execution_count": null,
      "metadata": {
        "id": "3U7tnj8UtAOV"
      },
      "outputs": [],
      "source": [
        "# Para hacer esto, metemos en el encoder los features de test_data.x y también los edge_index de test data.\n",
        "z = model.encode(test_data.x, test_data.edge_index)\n",
        "prob_adj = z @ z.t().sigmoid() # get adj NxN"
      ]
    },
    {
      "cell_type": "code",
      "execution_count": null,
      "metadata": {
        "colab": {
          "base_uri": "https://localhost:8080/"
        },
        "id": "uVWuMBe_FYKC",
        "outputId": "3aefe237-cae7-4b0a-a6ae-b0bb0c17bc2d"
      },
      "outputs": [
        {
          "name": "stdout",
          "output_type": "stream",
          "text": [
            "tensor([[2499, 1687,  787,  ...,  223, 1264, 3047],\n",
            "        [3222, 2239, 1066,  ..., 2388, 2874, 3173]])\n",
            "torch.Size([2, 5938])\n",
            "[(2499, 3222), (1687, 2239), (787, 1066), (332, 3126), (2468, 2677), (1481, 3323), (627, 3034), (419, 3017), (2677, 3790), (3261, 4173), (3367, 4271), (596, 3230), (1084, 4477), (2533, 3559), (3056, 3075), (1819, 3328), (1819, 2741), (1577, 2523), (87, 1535), (457, 899), (1438, 2643), (497, 3552), (3656, 3667), (351, 499), (1819, 3349), (2674, 3404), (2885, 2964), (815, 2922), (3691, 4467), (1285, 2530), (394, 1009), (562, 1912), (351, 3199), (1791, 2764), (2011, 2278), (2408, 2429), (1988, 3074), (838, 3572), (2372, 4617), (291, 2769), (308, 1890), (218, 718), (3341, 4421), (1890, 2841), (596, 2953), (2353, 4493), (1318, 1527), (518, 1861), (1728, 4603), (105, 1585), (312, 4217), (1376, 3340), (2591, 2864), (789, 2804), (12, 904), (1657, 3830), (982, 2195), (809, 2433), (222, 2627), (1920, 4331), (223, 2558), (2090, 3719), (1486, 1931), (2754, 3316), (2202, 4133), (1205, 4323), (1565, 2667), (2617, 3122), (1377, 1653), (1565, 4507), (870, 1971), (64, 3981), (1151, 1615), (27, 4270), (900, 4397), (2262, 3308), (1695, 3436), (1819, 2716), (575, 1826), (708, 4048), (2704, 3201), (2831, 3112), (1357, 3403), (2294, 2879), (17, 402), (87, 3526), (56, 4421), (1397, 3506), (2058, 4572), (1675, 2223), (844, 4607), (1376, 4507), (1565, 3664), (1212, 1964), (182, 1153), (1868, 2739), (281, 1819), (1827, 4503), (2420, 4367), (149, 1857), (1826, 3462), (1441, 4468), (982, 3581), (2412, 2951), (3666, 4459), (1816, 2193), (1107, 4595), (1285, 1791), (394, 3497), (926, 1153), (1727, 3967), (216, 3862), (3516, 3615), (2132, 2759), (2205, 2796), (1261, 2240), (483, 1447), (1110, 2697), (316, 793), (1948, 2609), (72, 1143), (87, 2283), (702, 2881), (1215, 1976), (3080, 3175), (698, 746), (1562, 3961), (68, 2388), (3843, 4179), (1587, 3202), (1701, 1819), (1061, 3626), (982, 2207), (1251, 1951), (2556, 3648), (1266, 3210), (1397, 4096), (1444, 1455), (527, 2475), (2922, 3786), (2171, 3696), (611, 4315), (1104, 2407), (367, 2968), (422, 2513), (2123, 3881), (2388, 2990), (196, 3903), (2864, 4338), (4114, 4127), (1819, 3336), (2190, 3539), (1791, 1807), (3565, 3812), (1964, 3054), (393, 3615), (36, 4554), (1050, 3069), (306, 2690), (2233, 4025), (1264, 2436), (2937, 4142), (4192, 4239), (1820, 2112), (3467, 4569), (1090, 1376), (896, 2233), (1565, 3502), (904, 3467), (1902, 2441), (679, 3871), (1183, 2694), (177, 1048), (2455, 4420), (2735, 2998), (4228, 4475), (913, 2304), (1400, 1731), (2371, 3621), (1865, 3770), (1947, 4208), (377, 2480), (2285, 4622), (2229, 3343), (847, 3866), (682, 1791), (2483, 2585), (1210, 4397), (2112, 2750), (1380, 2360), (182, 1501), (2283, 4274), (913, 2859), (1496, 3890), (213, 3626), (1826, 2451), (2475, 3881), (473, 3719), (1011, 1728), (920, 3046), (2782, 3890), (2073, 2759), (1659, 3719), (1236, 1467), (1217, 4507), (1795, 3823), (724, 4137), (278, 4208), (2283, 3239), (1462, 3268), (2214, 4295), (1267, 4258), (109, 2763), (213, 1717), (1715, 4042), (1910, 2206), (2148, 2278), (2294, 2735), (68, 688), (458, 3372), (165, 3907), (93, 543), (2340, 3811), (1131, 4155), (561, 3055), (599, 2506), (291, 3154), (1568, 2767), (2686, 2804), (2831, 3394), (212, 406), (323, 1728), (3844, 4142), (1254, 2491), (1819, 1835), (2408, 3543), (2922, 3020), (2388, 2441), (1708, 4443), (1206, 2785), (1560, 2973), (1844, 1919), (14, 2864), (1523, 4356), (793, 1820), (282, 2306), (3054, 4262), (3548, 4078), (809, 3615), (867, 3182), (2272, 2709), (1462, 3809), (636, 1585), (1919, 4169), (575, 1400), (614, 1526), (1774, 3006), (844, 1731), (27, 2379), (917, 1397), (2879, 3510), (876, 982), (562, 3448), (133, 4190), (144, 1583), (1042, 2156), (1676, 4295), (1648, 3921), (2904, 3102), (2864, 3337), (207, 2250), (2441, 2922), (1889, 4642), (702, 3880), (2258, 2694), (361, 633), (1921, 2223), (1976, 2487), (1406, 2885), (811, 3992), (1535, 4228), (2751, 3408), (3749, 4607), (2294, 4583), (1890, 4340), (485, 2564), (724, 2482), (1731, 2630), (2901, 3078), (3343, 3719), (2901, 3576), (71, 1220), (573, 2529), (4270, 4580), (1858, 3781), (1868, 3769), (513, 1084), (1405, 4503), (1491, 3227), (1860, 3244), (2932, 3235), (105, 4598), (1988, 4365), (1819, 2300), (291, 1715), (1675, 1715), (1187, 4451), (1822, 2853), (63, 3716), (2548, 4323), (781, 3720), (618, 1769), (2429, 4451), (588, 3881), (111, 724), (1496, 1971), (569, 3712), (982, 2761), (379, 781), (1294, 1902), (1639, 1819), (2001, 4397), (1230, 4428), (63, 2674), (855, 1091), (69, 2257), (1805, 2372), (2885, 3719), (1684, 4467), (1620, 1922), (2084, 3341), (2321, 3018), (769, 4586), (1084, 3443), (194, 4067), (3175, 4233), (1072, 1941), (385, 2958), (1816, 2760), (388, 4137), (4190, 4323), (1451, 1715), (3676, 3986), (1751, 4607), (1672, 4142), (2475, 4529), (705, 3719), (544, 2267), (775, 2623), (1195, 3100), (90, 1761), (2231, 2306), (2105, 4397), (387, 724), (101, 4323), (469, 2294), (2318, 3541), (1060, 4591), (2306, 4562), (2475, 2973), (777, 2906), (695, 1840), (997, 2138), (3808, 4397), (2294, 2961), (1819, 4227), (1444, 1676), (455, 2903), (310, 1279), (1117, 1279), (324, 815), (3169, 3541), (341, 4173), (196, 2469), (815, 2112), (2894, 3278), (1845, 3373), (3178, 4190), (2864, 3221), (2772, 3054), (1761, 3153), (982, 2694), (2548, 3781), (1227, 4415), (2171, 3414), (1715, 2925), (66, 1183), (1728, 3074), (1084, 3370), (4341, 4507), (986, 2820), (1565, 4133), (2900, 3241), (1845, 4052), (1890, 4081), (2009, 2306), (2042, 2377), (2642, 3781), (2106, 2379), (1693, 3567), (499, 2916), (1405, 3047), (3230, 4626), (671, 3349), (68, 1859), (3078, 4036), (933, 2112), (2754, 4344), (3098, 4142), (4100, 4238), (177, 4641), (1300, 3871), (1381, 1527), (2278, 3261), (1370, 3830), (1397, 2625), (929, 2183), (1264, 4295), (2951, 3372), (847, 2183), (2156, 4169), (920, 1907), (79, 2764), (2654, 2919), (1687, 2298), (330, 2940), (2475, 3566), (1376, 3808), (847, 2681), (838, 4478), (1691, 3773), (290, 2633), (204, 3314), (900, 3325), (1397, 2011), (1538, 3380), (940, 4218), (1312, 4607), (86, 2935), (3759, 4599), (2312, 4261), (724, 1676), (1822, 3423), (307, 2278), (321, 485), (3001, 3618), (963, 1264), (68, 2922), (2480, 4001), (913, 2218), (738, 940), (3455, 3526), (2283, 4285), (4154, 4170), (1780, 1862), (2834, 4397), (1038, 3501), (476, 1557), (4020, 4052), (2230, 4137), (2361, 4612), (21, 182), (1941, 4253), (2759, 4277), (1496, 4426), (341, 2468), (72, 1026), (636, 1802), (781, 1091), (2961, 4189), (895, 2753), (89, 1819), (1217, 3889), (149, 3830), (512, 1276), (2130, 2940), (3794, 3949), (1430, 2533), (294, 4415), (222, 3871), (404, 982), (1455, 1496), (4078, 4080), (230, 3830), (208, 2885), (1750, 3436), (1378, 3719), (1687, 2607), (784, 2987), (781, 3443), (2123, 4094), (32, 1931), (3911, 3973), (385, 606), (1574, 3908), (1590, 3659), (1238, 1693), (2417, 3788), (1231, 2475), (1381, 2606), (1555, 1958), (408, 1225), (2223, 4023), (1058, 2554), (2804, 2853), (1497, 3948), (89, 2751), (1058, 3871), (152, 931), (1422, 1928), (856, 3770), (2922, 3453), (915, 3586), (387, 1066), (2121, 4485), (39, 4621), (161, 3590), (1422, 2361), (1750, 1923), (2951, 4322), (736, 3272), (1438, 3767), (544, 3103), (1471, 2736), (310, 2321), (1074, 2593), (501, 2107), (312, 2076), (847, 1254), (1819, 2057), (2040, 2217), (1114, 1252), (166, 3046), (3581, 4275), (562, 963), (1527, 2046), (2036, 4353), (2283, 2285), (2888, 3131), (1445, 3350), (2060, 3678), (1791, 3950), (182, 4320), (701, 4142), (92, 1556), (2205, 4468), (1715, 4103), (203, 3436), (855, 3089), (1313, 2223), (1397, 2723), (4156, 4595), (814, 878), (1486, 1822), (1206, 1543), (724, 2920), (1593, 3175), (2342, 2480), (1143, 4230), (1210, 2749), (393, 1648), (2294, 4063), (2530, 2977), (1168, 1890), (3425, 3537), (182, 2742), (1802, 2937), (1168, 4423), (498, 2306), (2475, 3556), (105, 2951), (872, 2739), (1124, 2951), (1523, 1890), (596, 2375), (292, 2336), (1822, 2611), (1805, 4576), (1511, 3404), (1890, 4274), (2375, 3621), (777, 1318), (801, 3179), (307, 1975), (547, 4412), (788, 3349), (3796, 3871), (4538, 4637), (874, 1381), (406, 4020), (2283, 3999), (1168, 1819), (1089, 3387), (2596, 2623), (1139, 1441), (1412, 1791), (855, 3998), (1332, 3271), (1675, 3810), (2864, 3127), (4081, 4121), (1819, 2220), (982, 1073), (1907, 4626), (1073, 1383), (1325, 2864), (1153, 3261), (1935, 3552), (2522, 3122), (108, 3719), (310, 2759), (1902, 3652), (1958, 3831), (2135, 4574), (896, 3520), (2690, 4642), (221, 3323), (1687, 2808), (820, 1565), (1523, 1582), (3153, 4344), (4013, 4569), (781, 1309), (2018, 2506), (483, 3541), (1681, 3078), (3387, 3685), (485, 720), (284, 2891), (2386, 4468), (847, 2907), (2981, 3761), (2987, 4260), (3572, 4229), (1802, 2495), (1372, 2315), (1728, 2725), (93, 1497), (1269, 1651), (1443, 1565), (2643, 3320), (79, 4271), (1167, 2920), (1666, 2751), (33, 105), (570, 2217), (1923, 2490), (1761, 2754), (374, 1565), (396, 2934), (2225, 2461), (2767, 4569), (422, 812), (724, 1612), (773, 2106), (455, 4415), (2423, 3867), (1061, 1580), (1944, 3807), (1258, 2810), (204, 570), (2018, 3118), (2032, 2113), (1643, 2099), (500, 2865), (384, 3339), (1114, 1933), (742, 1840), (4137, 4323), (662, 1496), (79, 4397), (750, 1587), (998, 1476), (547, 4163), (2675, 4596), (105, 3162), (784, 1951), (781, 3550), (1844, 3765), (1376, 2156), (2578, 3169), (1084, 1279), (670, 2268), (596, 4457), (3696, 4288), (1422, 3549), (982, 4109), (903, 4379), (815, 3465), (2703, 4397), (1100, 1206), (1333, 1785), (781, 4528), (1479, 2865), (427, 2437), (1866, 4168), (701, 3380), (64, 656), (1845, 3499), (2529, 2864), (596, 859), (406, 4160), (367, 4121), (2005, 3349), (2870, 3954), (2229, 3404), (248, 3565), (1674, 2751), (4190, 4193), (1441, 2046), (2529, 3539), (2529, 3130), (4151, 4446), (694, 3394), (723, 2278), (2388, 2630), (915, 2026), (1899, 2879), (610, 2189), (1143, 2530), (1851, 2306), (145, 2719), (2864, 3052), (3228, 4289), (2306, 3539), (417, 915), (1555, 3921), (1383, 1919), (3000, 3672), (1565, 4094), (483, 3496), (316, 982), (1971, 3321), (427, 4263), (217, 2701), (310, 2775), (1047, 2864), (91, 707), (1890, 2769), (2897, 2969), (1515, 2830), (165, 1143), (1800, 3769), (431, 2513), (1206, 1826), (93, 4463), (2591, 2922), (1867, 4190), (1565, 3959), (81, 2965), (2546, 3635), (291, 404), (1819, 3648), (2535, 4591), (1890, 3528), (1397, 3967), (2106, 3270), (2606, 3660), (1617, 3154), (3815, 3830), (1948, 3496), (140, 3128), (3223, 3674), (1312, 2847), (2223, 2828), (1441, 2318), (1688, 2302), (2870, 4528), (1543, 2361), (1399, 4025), (1449, 2676), (247, 915), (2112, 2168), (775, 4623), (2092, 3210), (749, 3501), (361, 2922), (164, 2885), (1264, 2294), (2380, 2905), (384, 3804), (929, 1276), (1443, 2289), (1231, 2971), (2509, 3680), (111, 3591), (3830, 4473), (1662, 4070), (2046, 2346), (869, 4142), (1486, 1540), (855, 2761), (1225, 3080), (596, 4219), (1275, 3310), (182, 1424), (1409, 3244), (1517, 4276), (158, 2480), (1397, 2336), (2674, 3719), (854, 2085), (12, 434), (2546, 3811), (12, 1397), (220, 573), (1425, 4070), (2131, 4574), (497, 3871), (1368, 2102), (656, 3027), (1561, 2998), (1251, 3646), (940, 4395), (2099, 3781), (1595, 2449), (517, 3830), (823, 2032), (2714, 3781), (2609, 3830), (2758, 3499), (1151, 3049), (2998, 3464), (2521, 3719), (2455, 2601), (2901, 2915), (1018, 1453), (3122, 3933), (947, 4323), (883, 1986), (531, 2032), (3748, 4142), (724, 3750), (781, 815), (1862, 3672), (316, 2690), (1144, 3099), (915, 2688), (68, 4127), (785, 1264), (804, 2617), (2686, 3235), (68, 1013), (1976, 3279), (1988, 2182), (411, 583), (2294, 2771), (2694, 3154), (1819, 3494), (2533, 3949), (2177, 3719), (1319, 2547), (2995, 4340), (133, 2533), (1049, 4331), (2466, 4133), (911, 3182), (2276, 2609), (662, 2153), (1858, 4533), (165, 4100), (1129, 2097), (1585, 1640), (93, 756), (1608, 3541), (724, 1264), (663, 4323), (1987, 4270), (3760, 4569), (1305, 3871), (1050, 2767), (1701, 4015), (635, 4591), (1905, 3921), (1577, 4295), (2885, 4052), (1200, 1851), (305, 3122), (940, 3666), (2759, 3308), (51, 1693), (202, 1826), (60, 4004), (2501, 2894), (1235, 3404), (971, 4540), (1919, 2034), (223, 2831), (1988, 3163), (1800, 1938), (2408, 3808), (416, 3007), (3719, 4301), (3306, 4401), (161, 815), (844, 4578), (574, 2801), (1825, 2751), (1721, 3541), (402, 656), (2020, 4075), (1084, 4169), (2865, 3517), (815, 3741), (2904, 3021), (324, 538), (1350, 3830), (1397, 3079), (382, 1819), (1323, 2873), (642, 1084), (2038, 3415), (583, 2393), (1566, 2294), (781, 1408), (385, 3178), (1971, 4205), (3459, 3464), (1863, 3057), (2530, 3831), (844, 4617), (1226, 1819), (1723, 3118), (724, 4101), (3578, 4467), (2516, 2518), (4122, 4142), (869, 1383), (2932, 4542), (1348, 2549), (122, 3719), (1474, 1941), (1491, 2475), (1774, 3578), (518, 2112), (171, 2529), (3940, 4118), (213, 2901), (2393, 3757), (2393, 3244), (527, 4418), (1800, 3577), (2388, 4127), (2767, 3556), (12, 2283), (3349, 3972), (2830, 2999), (388, 4003), (3752, 3830), (929, 3075), (161, 3552), (1066, 1920), (1143, 4443), (1800, 3357), (2574, 3630), (773, 3694), (823, 1455), (982, 1072), (2258, 3381), (196, 1627), (913, 3241), (246, 4151), (1728, 4200), (2920, 3699), (847, 2438), (84, 3501), (2071, 3310), (1540, 3118), (1518, 3719), (548, 4152), (2421, 3220), (1163, 3496), (2361, 2760), (182, 4511), (2657, 3305), (1456, 4642), (1562, 2201), (1210, 2989), (33, 872), (2475, 4144), (2278, 2459), (182, 2039), (96, 1266), (1279, 2842), (904, 913), (1084, 2239), (1496, 2133), (38, 1750), (2278, 4001), (1627, 4397), (1438, 1784), (3237, 3552), (480, 2694), (811, 2479), (2686, 2885), (878, 3911), (724, 2149), (182, 2113), (89, 1254), (1479, 1486), (1579, 3615), (4142, 4143), (2105, 3118), (1082, 1944), (1577, 4598), (538, 1367), (3618, 4114), (4042, 4326), (574, 3696), (3020, 3046), (1988, 2978), (1337, 2017), (1941, 2454), (1960, 3310), (370, 3719), (1560, 2475), (2998, 3993), (1258, 4125), (1486, 2217), (1976, 2594), (1317, 4187), (485, 2994), (513, 4158), (2557, 4289), (4263, 4468), (1476, 3758), (993, 3815), (364, 1259), (2953, 3368), (2690, 2901), (2303, 2506), (2754, 4182), (2552, 3446), (1845, 3597), (88, 1750), (1351, 3304), (1041, 2977), (596, 4042), (68, 1599), (991, 1341), (3536, 4478), (3191, 3719), (1474, 4208), (2805, 4133), (844, 2543), (1303, 3372), (1784, 2319), (896, 1210), (1565, 3241), (776, 4397), (1723, 3831), (361, 2044), (714, 1310), (1928, 3387), (110, 2205), (186, 4142), (1565, 1571), (1381, 2429), (341, 4031), (3831, 4142), (3544, 3623), (497, 4607), (2922, 4134), (2283, 3857), (1464, 1857), (1084, 1909), (419, 1306), (1565, 2097), (1153, 1531), (862, 3784), (3264, 3719), (68, 1099), (159, 659), (1964, 4618), (1041, 2306), (245, 3591), (202, 915), (2086, 4397), (1064, 4056), (2546, 3104), (249, 1223), (1585, 1735), (4172, 4491), (924, 1084), (406, 1538), (1181, 1675), (724, 3812), (2847, 3626), (2183, 4451), (1047, 4468), (1619, 1744), (96, 2105), (1006, 2994), (855, 1072), (2018, 3633), (33, 4042), (1196, 3124), (583, 3412), (1073, 1971), (483, 2272), (199, 781), (1276, 1851), (931, 3565), (1676, 4617), (3630, 3719), (490, 1110), (823, 3997), (2859, 3282), (243, 1264), (25, 1156), (12, 231), (2358, 2865), (121, 3581), (1988, 4520), (1988, 2209), (1143, 1553), (3387, 4114), (3781, 4189), (443, 3738), (729, 903), (1565, 3920), (498, 811), (3866, 4490), (2905, 3234), (68, 1343), (1258, 2671), (2132, 4257), (3116, 3871), (2204, 4464), (2205, 3182), (114, 3871), (2108, 3781), (1518, 2719), (517, 3621), (416, 2018), (1024, 1033), (776, 2847), (2133, 2643), (2831, 4323), (878, 4124), (990, 3179), (1351, 2834), (955, 982), (236, 2855), (483, 1827), (182, 656), (1715, 3442), (1907, 3046), (213, 1264), (96, 3394), (406, 1896), (1940, 3162), (182, 1029), (215, 2506), (1704, 1819), (2718, 3154), (573, 3120), (2624, 4539), (811, 4271), (90, 3582), (2674, 2989), (1984, 2901), (2579, 4643), (1691, 1822), (3719, 4626), (2039, 3969), (870, 1376), (325, 1083), (1842, 2585), (793, 3740), (2045, 4340), (3106, 4044), (324, 502), (963, 2714), (2521, 3797), (291, 968), (56, 1826), (1671, 2340), (100, 1397), (2865, 4114), (112, 3719), (781, 4120), (2194, 4142), (847, 4387), (2198, 4598), (2804, 3235), (735, 1114), (564, 2683), (1735, 2447), (2461, 3754), (1112, 2986), (1935, 3089), (694, 4583), (182, 1041), (815, 3078), (1829, 4295), (146, 2998), (1029, 1919), (2546, 4285), (463, 2824), (419, 2517), (897, 2451), (1254, 1984), (291, 306), (931, 3830), (1212, 3815), (925, 4499), (366, 1819), (527, 4287), (69, 1737), (877, 2198), (2149, 3699), (569, 2361), (222, 2632), (149, 4599), (820, 3370), (1496, 4127), (1264, 1722), (1061, 4322), (708, 3007), (913, 3615), (1982, 4065), (2388, 4569), (1919, 2318), (536, 1128), (2002, 3565), (1561, 3592), (12, 2318), (152, 3242), (16, 4070), (650, 3446), (1279, 2961), (3227, 4133), (940, 1663), (1267, 1819), (1416, 2671), (408, 2468), (1012, 1723), (72, 749), (3614, 4481), (1486, 1643), (3294, 4533), (2000, 4266), (958, 4142), (1279, 3793), (100, 1941), (1802, 4110), (1205, 4295), (2020, 2748), (3635, 4377), (2504, 3230), (586, 2018), (2984, 4300), (1812, 4420), (2829, 2854), (3817, 4069), (1676, 2676), (915, 1809), (3611, 3734), (1715, 2670), (570, 1523), (1397, 3072), (111, 4397), (1276, 2032), (3237, 3590), (1741, 2506), (1462, 3880), (3549, 3704), (1147, 2475), (2760, 3781), (2405, 2847), (3244, 3973), (1704, 2852), (2729, 4151), (2584, 2654), (2568, 2804), (4382, 4421), (2218, 3178), (837, 2506), (1656, 4005), (699, 4607), (924, 1351), (2092, 2615), (847, 4175), (1762, 2434), (2762, 3021), (1114, 2951), (406, 3859), (2408, 2911), (485, 2174), (2101, 3166), (2558, 4160), (482, 2099), (1254, 1744), (2448, 4642), (704, 4397), (913, 1469), (2501, 4309), (2408, 2578), (114, 781), (2952, 4517), (913, 4356), (940, 4388), (1351, 2068), (801, 1114), (993, 1217), (1178, 1585), (627, 3979), (739, 3372), (2700, 4190), (428, 4273), (79, 3615), (3507, 4151), (1491, 3855), (79, 3736), (596, 2701), (2772, 2831), (1702, 2447), (1976, 3027), (1819, 3238), (1848, 2847), (781, 1789), (1354, 1798), (4078, 4215), (1444, 3054), (1441, 2577), (982, 2842), (2847, 3349), (1478, 2606), (61, 1715), (2694, 3495), (3940, 4244), (2177, 2480), (223, 2919), (2112, 4585), (2106, 3795), (1212, 4270), (503, 2922), (820, 2828), (69, 427), (3614, 4546), (1561, 2533), (2129, 2529), (2624, 4151), (399, 3054), (2236, 3515), (1025, 2516), (1376, 3308), (1200, 1731), (884, 1229), (1577, 1656), (86, 1713), (1024, 1318), (1284, 1715), (159, 1010), (152, 1455), (3263, 3565), (505, 2130), (298, 544), (2106, 3678), (614, 4581), (111, 1154), (427, 3182), (574, 3529), (2702, 4078), (1139, 2105), (1084, 1911), (1030, 2864), (1083, 1988), (2283, 2491), (1236, 3510), (1708, 1867), (319, 2306), (2315, 3131), (1119, 2929), (1376, 2408), (1378, 1935), (1284, 1819), (799, 2408), (68, 2677), (3748, 4065), (1153, 2721), (982, 4562), (1945, 3472), (2751, 3261), (1715, 2192), (3559, 3767), (20, 2480), (4207, 4607), (840, 1376), (108, 4255), (1976, 2442), (87, 623), (2630, 4575), (1383, 2603), (13, 3055), (63, 3054), (2483, 3162), (1397, 2537), (940, 2312), (182, 204), (3242, 4323), (2368, 4534), (3089, 4493), (1397, 4001), (212, 940), (1381, 3821), (3291, 3781), (3235, 3496), (2550, 2638), (809, 2388), (1285, 1376), (165, 1523), (1269, 2448), (2103, 2130), (2904, 4415), (487, 1919), (1205, 1285), (815, 2885), (1890, 2764), (252, 2751), (61, 3537), (1354, 3106), (1890, 4288), (3719, 3766), (1397, 3414), (182, 3800), (2314, 2475), (56, 990), (2306, 2681), (2806, 3817), (811, 3507), (382, 1405), (724, 1100), (310, 4341), (1919, 4601), (3559, 3823), (568, 1640), (615, 769), (930, 2831), (3405, 4412), (3751, 4142), (2306, 2755), (1178, 4607), (1819, 4311), (2872, 4626), (89, 4151), (3851, 4142), (56, 1210), (12, 1565), (1962, 3719), (2902, 3645), (316, 3514), (1339, 2689), (3621, 3736), (1959, 4142), (2310, 3007), (1626, 3182), (2108, 4170), (2549, 2736), (19, 897), (1267, 4288), (2642, 3678), (714, 3614), (2306, 2831), (2318, 3962), (892, 2201), (1351, 3135), (1930, 2292), (502, 920), (1430, 2475), (2572, 2951), (413, 1800), (1027, 4273), (111, 4052), (2187, 3235), (171, 724), (2205, 4126), (126, 1351), (2626, 3563), (1989, 2133), (1440, 2449), (1348, 3394), (2361, 3526), (702, 3054), (3781, 4240), (3387, 3412), (284, 2318), (182, 671), (89, 1635), (1275, 2873), (4127, 4190), (3510, 3996), (1930, 4361), (2344, 3179), (1026, 4377), (203, 1819), (196, 1813), (1217, 2393), (2859, 3619), (440, 3078), (126, 990), (2812, 3499), (1728, 3157), (442, 1791), (1715, 2938), (1294, 2408), (1279, 2502), (1496, 3034), (1294, 3297), (291, 4507), (1241, 1254), (43, 4001), (25, 1178), (3499, 3719), (1725, 2408), (3499, 4421), (1713, 3568), (251, 1941), (2285, 3242), (677, 3719), (19, 2213), (927, 1397), (14, 1005), (3203, 4250), (2767, 2940), (1826, 3736), (724, 2888), (1540, 2546), (724, 2159), (1573, 4045), (2278, 2337), (2658, 2864), (1284, 4295), (940, 1072), (1023, 2407), (2928, 3738), (2804, 3830), (1483, 2201), (1971, 1992), (1168, 2474), (1091, 4397), (196, 836), (518, 2608), (3719, 3796), (1284, 1381), (866, 2252), (1157, 1976), (1143, 2357), (81, 1143), (1156, 3028), (166, 4118), (1691, 3521), (2318, 2865), (179, 2645), (4010, 4500), (2361, 2953), (2606, 2719), (2828, 3225), (1565, 3989), (1919, 3538), (3541, 4242), (2117, 4201), (2344, 2556), (194, 847), (196, 4478), (746, 811), (536, 837), (67, 1497), (268, 2380), (56, 1715), (3233, 3699), (2206, 2419), (3505, 4236), (940, 1352), (2318, 2783), (913, 1551), (1819, 3840), (1715, 2894), (1555, 2463), (1967, 2987), (1704, 1728), (3372, 3680), (143, 3672), (322, 4415), (735, 2183), (499, 2831), (1016, 2548), (847, 1433), (1535, 3655), (1890, 2768), (293, 4521), (1376, 2763), (3166, 4261), (1867, 2318), (2804, 4442), (1422, 2451), (1486, 2677), (266, 3254), (1422, 2377), (1800, 4493), (2677, 3784), (1982, 3782), (418, 2549), (2753, 3452), (2195, 3118), (2221, 4298), (2830, 3528), (96, 724), (3394, 3541), (1381, 4271), (2283, 2521), (129, 3660), (1802, 3599), (1791, 2315), (3261, 4415), (4510, 4558), (1865, 4442), (3292, 4126), (2824, 3812), (724, 2710), (2859, 4105), (1727, 3855), (3556, 4142), (1802, 2591), (2306, 4001), (1826, 3630), (408, 2278), (2849, 4273), (4275, 4478), (1264, 2344), (1920, 2475), (2938, 4412), (3572, 4038), (1012, 3830), (2721, 3961), (735, 1450), (902, 4114), (306, 499), (182, 1090), (2630, 4507), (823, 3961), (982, 2558), (182, 4127), (544, 3530), (1826, 3446), (596, 1663), (1672, 3020), (673, 3305), (1211, 3804), (1276, 1784), (864, 2218), (246, 1945), (1376, 2346), (724, 2582), (935, 1221), (3881, 4071), (365, 820), (3015, 4233), (2922, 3437), (724, 3549), (1350, 2767), (1414, 1919), (2283, 3184), (1152, 2670), (1676, 2379), (938, 3370), (89, 4127), (969, 3781), (2736, 4151), (2228, 2574), (101, 694), (482, 2597), (531, 4341), (935, 2552), (220, 4361), (585, 3078), (1297, 4233), (342, 2475), (1029, 2283), (1510, 3837), (1014, 3046), (2492, 3452), (1026, 3350), (150, 2361), (1440, 2276), (202, 2173), (3078, 4172), (1237, 3719), (1695, 3644), (499, 739), (735, 1822), (1983, 2831), (596, 2342), (2847, 3691), (1227, 1275), (1826, 2785), (547, 1938), (1759, 3030), (1715, 3765), (1948, 4644), (2403, 3719), (1987, 2851), (3162, 3757), (1381, 4518), (2698, 2859), (2018, 3169), (527, 2020), (2426, 3803), (1254, 1527), (3055, 3811), (2574, 4152), (2021, 3719), (1380, 1577), (3179, 3425), (2011, 4522), (1819, 3759), (1064, 3204), (159, 4095), (982, 3551), (375, 1799), (435, 1840), (3106, 3940), (1212, 3007), (406, 1312), (1861, 3078), (1206, 2922), (562, 2009), (1919, 2763), (940, 3416), (577, 596), (1462, 2885), (724, 4081), (2577, 4238), (781, 3924), (315, 2874), (294, 4379), (837, 3100), (2829, 4377), (89, 4222), (2782, 4167), (1024, 1381), (1702, 3686), (713, 4574), (87, 2726), (847, 3549), (19, 661), (2205, 3118), (138, 1822), (3525, 4151), (86, 837), (1774, 4295), (2099, 2225), (1264, 1749), (3670, 3942), (735, 3676), (2285, 3487), (1376, 1565), (324, 3357), (1255, 3357), (534, 2465), (3763, 3981), (105, 4340), (724, 2894), (586, 1971), (1454, 2296), (1857, 3455), (513, 3781), (1935, 2979), (1426, 2820), (643, 3686), (2142, 4443), (1152, 1469), (499, 2457), (993, 4461), (1375, 1715), (786, 4481), (3719, 4188), (2864, 3954), (373, 1590), (656, 3991), (2475, 4300), (2742, 2940), (527, 1394), (673, 1114), (3387, 4031), (2951, 4170), (128, 568), (1888, 1902), (1471, 4130), (527, 1474), (223, 306), (1114, 2873), (1297, 1397), (1187, 1785), (482, 1012), (991, 1210), (2651, 4372), (1531, 2756), (203, 3245), (3516, 4331), (2361, 4442), (4031, 4468), (1200, 1498), (940, 3766), (1284, 2904), (1229, 3235), (534, 2894), (41, 4208), (398, 1395), (968, 1585), (560, 3307), (116, 4142), (89, 1959), (1666, 3437), (497, 1560), (724, 1756), (1687, 2674), (166, 3984), (345, 1153), (392, 705), (427, 1541), (1585, 2822), (2572, 3425), (1000, 1890), (2340, 4114), (1523, 3856), (247, 3572), (750, 2448), (621, 1615), (3598, 4175), (2763, 4331), (246, 4415), (3948, 4632), (560, 4279), (2754, 2830), (1819, 3446), (2468, 2742), (1565, 2624), (1030, 2994), (322, 4642), (1761, 3683), (99, 3796), (393, 4364), (1931, 1967), (2922, 3594), (2046, 3948), (182, 1210), (573, 1255), (596, 4121), (291, 4329), (12, 1970), (2032, 3204), (893, 2294), (4197, 4208), (1052, 2120), (2222, 2306), (458, 1084), (1912, 2864), (2475, 3527), (64, 2839), (85, 3182), (370, 4125), (1064, 4451), (1822, 4642), (1538, 2736), (68, 671), (1465, 3076), (3268, 4053), (830, 4190), (1565, 2475), (165, 3051), (739, 1121), (2018, 3890), (982, 4339), (2099, 2428), (3094, 3526), (2461, 3964), (926, 4051), (12, 1857), (2654, 4003), (2812, 4607), (1181, 4388), (2468, 3802), (265, 3948), (390, 3719), (4382, 4578), (402, 2922), (947, 3210), (1840, 3552), (1728, 1779), (646, 4220), (366, 1650), (1728, 3226), (1575, 3719), (3020, 4569), (78, 3972), (1258, 2549), (893, 982), (2008, 2450), (3577, 4394), (44, 3963), (1376, 2609), (3745, 3811), (3107, 3653), (733, 1517), (2701, 2997), (2296, 3565), (1006, 2529), (457, 4142), (3035, 4295), (2706, 2804), (724, 4189), (213, 2549), (2854, 3452), (2820, 4598), (1903, 2289), (2183, 2480), (2393, 2449), (820, 2864), (2099, 2318), (926, 4065), (821, 4596), (1715, 3678), (2294, 2752), (574, 735), (1728, 4587), (2388, 4397), (2475, 3348), (499, 3455), (406, 3884), (659, 1965), (1002, 1833), (100, 3316), (2133, 4113), (1024, 2686), (800, 4467), (541, 1919), (1403, 1791), (2480, 3452), (902, 1462), (3296, 3737), (822, 3645), (1100, 4642), (4142, 4455), (1318, 2540), (932, 1255), (1571, 4183), (12, 1958), (1352, 2864), (306, 3146), (1168, 2842), (527, 2118), (1248, 1341), (570, 904), (2306, 4151), (954, 1819), (1359, 3709), (2399, 2530), (336, 1052), (471, 4288), (3871, 4177), (1376, 1880), (2213, 3871), (2475, 3592), (4397, 4619), (71, 213), (2829, 3921), (110, 2475), (680, 3594), (412, 1411), (1397, 4204), (815, 2801), (105, 3154), (2922, 3823), (2112, 3295), (826, 4514), (1687, 2436), (2475, 3751), (1121, 2686), (931, 1176), (293, 1713), (665, 942), (222, 2523), (385, 681), (1574, 2608), (933, 3641), (2258, 2699), (724, 1027), (1366, 4339), (1676, 4554), (1819, 4212), (560, 1047), (1351, 1532), (1827, 4617), (1294, 3644), (345, 2741), (3239, 3719), (1061, 2344), (1535, 2102), (492, 2879), (847, 3921), (2117, 2917), (81, 1027), (636, 3467), (2388, 3914), (569, 2480), (294, 2475), (1535, 1565), (2388, 2480), (1366, 2384), (724, 4511), (1861, 4208), (194, 2361), (207, 4208), (1826, 3428), (1919, 2964), (1081, 2283), (1783, 4288), (2726, 3867), (2359, 3496), (1084, 1300), (1306, 4142), (1585, 4415), (1736, 1865), (2480, 4129), (735, 1276), (326, 485), (2302, 2690), (1627, 1819), (387, 1075), (3788, 4466), (1318, 2756), (677, 1928), (2410, 2613), (793, 4443), (129, 2888), (1924, 2394), (182, 527), (3582, 4607), (1919, 3751), (1383, 3781), (931, 2475), (2513, 3271), (1819, 2309), (532, 1967), (700, 1819), (4196, 4578), (1012, 1793), (3719, 4510), (3204, 3501), (2536, 2804), (217, 2830), (1378, 3106), (2831, 3615), (351, 4229), (1841, 3235), (2447, 2920), (1076, 2814), (14, 2690), (1090, 2922), (707, 1608), (3443, 4294), (2666, 4388), (694, 920), (3182, 3672), (971, 2475), (269, 1744), (3210, 3804), (1100, 4151), (844, 2908), (1565, 3867), (2901, 4510), (1000, 1114), (2165, 4288), (53, 940), (2586, 2751), (1890, 4569), (4104, 4142), (98, 781), (903, 1100), (1919, 2319), (1338, 3000), (2279, 3979), (203, 1977), (1115, 2788), (723, 4383), (1211, 3852), (781, 3397), (3372, 4268), (809, 4298), (2230, 2279), (2831, 2916), (3811, 4641), (111, 1568), (825, 2475), (408, 1143), (2490, 3063), (3307, 3969), (384, 4331), (366, 1958), (562, 1704), (1471, 3300), (817, 3020), (998, 1826), (1943, 3931), (1687, 3109), (1259, 4151), (781, 3877), (724, 3210), (85, 4163), (3138, 4105), (3758, 4319), (2306, 4513), (2306, 2558), (3831, 4493), (109, 4455), (149, 2388), (540, 3719), (1891, 2026), (1072, 3763), (1890, 4278), (2489, 3950), (1965, 2608), (855, 1142), (749, 3666), (1496, 3949), (366, 3099), (884, 3235), (527, 891), (2690, 4151), (2901, 3074), (1018, 3210), (837, 2039), (1867, 4144), (1061, 2412), (811, 2535), (1977, 3855), (1397, 2209), (810, 2582), (1329, 2888), (1920, 3235), (1535, 3915), (1687, 3168), (1377, 2493), (3440, 4607), (712, 3663), (725, 2278), (68, 4143), (966, 4572), (1885, 4142), (316, 4503), (963, 4387), (756, 3134), (636, 1571), (3336, 4397), (749, 1919), (1890, 3890), (160, 1279), (2650, 3173), (781, 3201), (1122, 3268), (2283, 4371), (2480, 2830), (84, 2475), (1266, 3505), (2546, 2796), (1284, 1400), (129, 1391), (2205, 4142), (724, 3964), (606, 2998), (1676, 2911), (1026, 4190), (3100, 4042), (2953, 4323), (2612, 4647), (1565, 1903), (370, 1845), (3719, 3799), (1444, 2563), (2556, 3740), (920, 3940), (823, 2530), (844, 1351), (315, 3380), (735, 1988), (671, 2468), (4127, 4599), (823, 4295), (1639, 4015), (772, 3790), (623, 3759), (896, 3341), (1891, 4003), (1211, 3812), (695, 1380), (562, 2622), (976, 1967), (79, 1783), (1907, 2820), (1024, 2223), (1376, 4579), (2443, 4052), (1440, 2746), (2015, 2964), (4124, 4295), (527, 4173), (548, 1687), (419, 721), (2171, 3191), (870, 1919), (1967, 4048), (724, 4428), (2045, 4078), (196, 384), (2851, 4151), (2090, 2201), (847, 1440), (754, 3436), (1426, 3869), (2278, 3933), (2418, 2878), (931, 3235), (1204, 2444), (574, 1131), (1292, 1802), (402, 811), (1728, 1984), (919, 3546), (781, 2536), (773, 4295), (1306, 3122), (1197, 4644), (542, 1501), (168, 1319), (1762, 3579), (982, 2042), (952, 2294), (3871, 4009), (596, 4478), (2889, 4295), (325, 4534), (2399, 4564), (603, 1802), (715, 1715), (1061, 1114), (490, 772), (2616, 3804), (1061, 1876), (1351, 3590), (3719, 4522), (1876, 3719), (759, 982), (191, 3186), (2102, 4507), (811, 2726), (3549, 3576), (724, 2885), (2549, 2830), (844, 3089), (2729, 3054), (3731, 4127), (1264, 2598), (2468, 3007), (189, 3719), (913, 3827), (3501, 3873), (3649, 3848), (1023, 2759), (1565, 2790), (781, 4288), (2499, 3118), (1169, 1220), (2392, 2800), (2890, 4478), (232, 1398), (735, 1212), (3088, 4242), (86, 111), (1731, 1867), (2491, 2964), (1715, 2828), (1241, 2475), (531, 2254), (140, 2499), (288, 3819), (1603, 3552), (1153, 1897), (1440, 4280), (1114, 3031), (419, 784), (888, 3235), (3148, 4493), (1397, 2577), (1557, 3455), (56, 1737), (3118, 3148), (608, 2971), (2850, 4102), (2901, 3549), (2318, 3672), (2306, 3748), (115, 1728), (107, 4204), (2922, 3849), (1953, 4601), (367, 2283), (56, 4469), (844, 2681), (1191, 3972), (3166, 4443), (824, 2278), (2283, 2304), (849, 2529), (2518, 3817), (820, 3712), (1168, 2182), (1941, 4018), (378, 1318), (815, 2753), (1832, 3758), (3526, 3592), (2202, 2408), (497, 2223), (3452, 4598), (560, 1462), (2105, 4295), (408, 1153), (1526, 4233), (674, 1976), (123, 3543), (3107, 3615), (118, 2779), (1598, 4538), (1078, 2886), (2082, 2685), (3592, 4169), (2864, 3416), (4397, 4473), (475, 3984), (1131, 3381), (4298, 4569), (2902, 3754), (2475, 4107), (2306, 3179), (844, 1517), (398, 1060), (1487, 1861), (1967, 4481), (71, 3611), (823, 4601), (1512, 1845), (1538, 2885), (1527, 3871), (247, 512), (903, 1932), (602, 3719), (2222, 3871), (633, 4607), (250, 2922), (1406, 2020), (1486, 1750), (562, 3041), (191, 4260), (1351, 1717), (2612, 3719), (1279, 1524), (1515, 4323), (2484, 3979), (2878, 3962), (1815, 4143), (389, 3736), (781, 1305), (1728, 2874), (982, 1810), (1540, 2397), (3298, 3899), (2194, 2306), (1470, 2475), (942, 3272), (2532, 4080), (940, 3929), (3235, 4323), (1084, 2169), (823, 993), (940, 2772), (1351, 4293), (1230, 2788), (1176, 3186), (1867, 2677), (742, 3526), (3972, 4443), (521, 3114), (2704, 4341), (2480, 2556), (1600, 2911), (588, 1593), (636, 3967), (1114, 1185), (1297, 3072), (724, 4407), (1526, 2018), (4163, 4200), (596, 2925), (1487, 2265), (499, 3195), (1150, 2283), (1114, 2558), (749, 1531), (275, 2021), (191, 3719), (291, 1297), (663, 4091), (596, 2830), (3414, 4208), (182, 2275), (2797, 4094), (979, 1131), (177, 561), (793, 2920), (1081, 2278), (89, 3855), (1072, 1826), (721, 1819), (781, 2303), (1455, 4289), (1482, 4491), (570, 3235), (3268, 4151), (44, 4331), (1827, 2549), (2018, 4105), (559, 3440), (734, 4331), (3600, 3811), (2014, 2156), (2903, 3767), (1805, 3683), (641, 3577), (87, 4273), (25, 3160), (483, 2926), (1668, 1943), (2645, 2922), (1728, 2519), (1318, 2694), (3742, 4644), (1283, 4397), (351, 2198), (2580, 2902), (915, 1715), (2558, 2630), (596, 3860), (489, 724), (855, 3147), (1397, 2136), (1577, 2831), (1432, 1890), (1920, 2617), (1397, 2431), (87, 929), (183, 3692), (982, 1558), (2379, 2865), (2437, 2506), (1822, 4078), (1678, 1691), (1147, 1496), (2227, 2272), (1800, 2334), (512, 1805), (1627, 3621), (2156, 2763), (1971, 4455), (93, 4515), (1220, 4203), (1370, 2751), (1763, 2475), (1819, 3406), (1486, 4529), (2112, 4081), (1061, 4107), (1397, 3632), (227, 2434), (1471, 1807), (3719, 4495), (3140, 4070), (293, 1703), (250, 1525), (63, 3235), (2023, 2475), (1688, 4455), (1007, 3811), (1826, 2722), (3007, 4113), (1341, 4353), (2626, 3235), (574, 1557), (2641, 4397), (2864, 4199), (1050, 1568), (269, 2830), (1076, 3519), (815, 2068), (1227, 2702), (392, 847), (1935, 4451), (1614, 2388), (1764, 2234), (1676, 2344), (1397, 2236), (1534, 1907), (85, 2032), (1154, 1890), (2939, 3191), (1565, 3963), (499, 4575), (1889, 3235), (53, 596), (1902, 2011), (749, 2318), (101, 4154), (442, 2885), (60, 1376), (544, 2140), (3396, 4190), (2156, 2506), (345, 3387), (402, 4331), (1857, 2506), (1992, 2922), (4377, 4434), (1441, 4511), (2039, 3949), (20, 3343), (1084, 4234), (1247, 2511), (391, 2475), (777, 3154), (1919, 2283), (68, 2905), (112, 2475), (1868, 2393), (416, 3122), (3646, 3969), (2148, 2442), (2987, 3368), (393, 1890), (2548, 3485), (475, 1841), (2971, 3654), (1163, 4367), (2300, 2480), (2585, 2875), (1496, 2346), (769, 4080), (2318, 4127), (2361, 2611), (3704, 3719), (876, 2847), (574, 2593), (1227, 1851), (372, 2228), (1038, 2475), (2065, 2767), (621, 2999), (2864, 4589), (1958, 2591), (938, 4467), (2228, 3659), (2724, 4397), (158, 2879), (2703, 3004), (2667, 4142), (1676, 4270), (2447, 3872), (60, 3122), (2979, 4415), (406, 2251), (217, 4503), (3384, 3790), (42, 569), (1106, 2263), (1971, 2796), (1958, 4331), (457, 4616), (3008, 4592), (3252, 3655), (970, 2253), (633, 2548), (1332, 4142), (2591, 3830), (875, 4250), (1254, 2032), (1084, 3859), (4142, 4289), (1014, 3967), (109, 4365), (1350, 4190), (635, 2399), (3372, 4081), (1197, 4031), (2278, 4124), (2194, 4326), (1515, 1713), (2537, 4142), (2623, 4150), (3095, 4415), (2654, 4397), (111, 2530), (497, 3496), (915, 2318), (2117, 3563), (742, 896), (251, 809), (1715, 2229), (1715, 2919), (399, 633), (940, 1283), (2278, 4232), (707, 1671), (914, 1496), (1, 357), (1059, 1960), (1062, 4415), (3310, 3673), (351, 485), (36, 4154), (2722, 4367), (2164, 4641), (725, 4142), (87, 2829), (1878, 4200), (121, 3719), (803, 1482), (1713, 3996), (815, 1400), (1688, 3809), (85, 4154), (2095, 4285), (2475, 3246), (1351, 2182), (2034, 3972), (591, 1565), (1691, 4141), (1713, 2529), (1411, 3549), (1309, 2113), (3318, 4179), (1397, 3200), (1376, 2885), (1585, 3514), (982, 3045), (809, 2218), (3072, 3185), (4081, 4401), (1759, 2615), (483, 1067), (3532, 3763), (2724, 2847), (1024, 2875), (1200, 1276), (3148, 4159), (516, 922), (3719, 4096), (1354, 3940), (1513, 2831), (462, 915), (68, 2487), (129, 1314), (1129, 1810), (1855, 2749), (1703, 2831), (1397, 2887), (982, 3470), (1254, 2842), (1073, 4105), (2516, 4397), (1306, 2388), (1066, 2468), (3062, 3267), (286, 940), (2408, 3492), (2302, 2578), (323, 1227), (482, 967), (1351, 2803), (140, 3739), (398, 1534), (2015, 3376), (82, 2582), (2393, 3272), (2039, 2058), (392, 724), (366, 1376), (793, 2583), (291, 2408), (2475, 2934), (1784, 2408), (1722, 3372), (2475, 3800), (1982, 4415), (2719, 3686), (2294, 2925), (1371, 3614), (123, 1143), (2630, 3387), (367, 2935), (596, 1453), (2013, 2831), (485, 3051), (1669, 3310), (2754, 3368), (847, 2830), (359, 3911), (549, 4397), (1181, 4216), (1310, 2838), (363, 1380), (636, 1523), (2306, 4421), (2989, 4607), (1294, 3827), (2765, 4190), (1842, 3548), (2695, 3364), (619, 1114), (1762, 2106), (2408, 2651), (2081, 2196), (3054, 4157), (1479, 3991), (1539, 4242), (128, 499), (596, 3339), (68, 977), (2922, 4344), (1121, 2777), (1863, 3179), (1462, 3973), (1702, 3325), (938, 4177), (1890, 2180), (1440, 3809), (419, 1188), (1184, 4467), (447, 3010), (3437, 4539), (2480, 2622), (596, 1789), (3121, 3781), (940, 4593), (1441, 3285), (3973, 4095), (1376, 2382), (1254, 3808), (1212, 3963), (3205, 4142), (2935, 4323), (1713, 4201), (2590, 3021), (1565, 3762), (1440, 4561), (784, 3056), (2751, 4197), (1433, 1756), (948, 3166), (3830, 4428), (2408, 2643), (1512, 3050), (2283, 3666), (1471, 3261), (830, 2922), (4246, 4596), (109, 1285), (1090, 2201), (1919, 2958), (427, 2502), (143, 2283), (1783, 3719), (1049, 1565), (2046, 2428), (784, 3611), (3754, 4434), (2306, 3492), (289, 896), (3889, 4142), (570, 4318), (2518, 4479), (1294, 1748), (2759, 3244), (419, 2011), (1631, 2283), (2739, 4514), (596, 2377), (246, 3446), (2217, 3467), (1967, 2606), (2159, 2767), (2533, 3795), (2223, 4047), (2092, 2210), (931, 3194), (2278, 3672), (244, 2782), (2475, 2762), (923, 2754), (581, 4217), (2989, 4578), (2032, 4403), (3564, 4036), (1715, 2483), (67, 2546), (2761, 3496), (972, 3029), (2408, 3349), (1152, 4438), (91, 3635), (963, 2191), (2388, 2499), (570, 1748), (3499, 4218), (1081, 1919), (319, 499), (1728, 2719), (1595, 2668), (2231, 2708), (2290, 4357), (3226, 3496), (2937, 3855), (2201, 2486), (343, 1381), (1819, 3132), (2183, 3871), (460, 1169), (2506, 3967), (1476, 1525), (330, 604), (637, 1565), (1230, 2769), (3719, 4443), (681, 1066), (485, 3736), (68, 4575), (1890, 2953), (182, 1766), (940, 2157), (2306, 2598), (742, 4336), (1819, 4266), (3261, 3592), (485, 4215), (89, 3213), (1523, 3830), (458, 2735), (1497, 2164), (119, 1984), (182, 2763), (2831, 3414), (2118, 4142), (1853, 2984), (3703, 4052), (1440, 2676), (3455, 4331), (68, 2530), (636, 3271), (1462, 3989), (269, 2379), (2418, 3954), (1970, 2285), (85, 2984), (636, 749), (3248, 4607), (2690, 4478), (1443, 4208), (1220, 3667), (2026, 2797), (159, 2218), (189, 419), (441, 1563), (2149, 2361), (1660, 4386), (815, 4401), (152, 1041), (157, 485), (1209, 3235), (4273, 4515), (98, 4289), (3006, 4200), (1819, 2244), (2702, 4043), (295, 2922), (2089, 2306), (3871, 4080), (2775, 3118), (1214, 2294), (1178, 1819), (705, 4074), (499, 1276), (3099, 4291), (1084, 4382), (1851, 3452), (170, 4353), (291, 847), (1540, 3804), (447, 1628), (1580, 3590), (2518, 3552), (4142, 4361), (93, 4554), (1375, 3730), (2950, 3962), (1297, 2294), (1132, 1902), (574, 4340), (1114, 2467), (473, 1152), (940, 1037), (1826, 3612), (2764, 2903), (316, 1984), (287, 709), (87, 746), (746, 1376), (1516, 2613), (904, 2109), (570, 1977), (2666, 3452), (1555, 2677), (2283, 2477), (1676, 4215), (562, 4620), (570, 811), (2548, 2894), (548, 593), (1826, 3929), (1383, 2101), (1220, 3723), (2201, 4336), (1425, 1590), (823, 2318), (1585, 4522), (1826, 3020), (2920, 3054), (3316, 3719), (1397, 3533), (3045, 3325), (684, 1629), (661, 2901), (1409, 3852), (3492, 4331), (1451, 1988), (1399, 2794), (3121, 3178), (1980, 2751), (596, 2771), (1462, 2591), (1264, 4429), (323, 2558), (1565, 2850), (681, 794), (2235, 3912), (734, 1971), (928, 4170), (189, 1976), (194, 2480), (1022, 3787), (111, 3855), (596, 2001), (12, 1504), (610, 3672), (636, 4036), (2480, 4522), (1376, 3861), (2864, 3925), (2112, 4047), (982, 2724), (560, 2393), (841, 2654), (3609, 3719), (1597, 2751), (1479, 1561), (2643, 4300), (467, 3830), (2359, 4107), (847, 3446), (2735, 3621), (855, 1301), (2756, 4289), (801, 3499), (671, 4126), (1114, 4478), (750, 2953), (419, 3059), (781, 2854), (2289, 2902), (1819, 2475), (1083, 2570), (202, 574), (2529, 3115), (596, 4387), (307, 3526), (1381, 4339), (2694, 3549), (2232, 2475), (1667, 1988), (1967, 3708), (307, 3509), (2024, 4468), (2259, 4331), (1715, 3372), (1695, 3798), (2125, 2728), (3501, 4193), (1691, 3516), (1276, 4151), (3094, 4599), (534, 991), (1750, 3387), (129, 2519), (1572, 4596), (315, 2754), (2008, 2605), (60, 2475), (3187, 3590), (779, 1822), (1041, 1062), (354, 702), (1965, 3404), (2, 2753), (783, 4447), (247, 1381), (193, 1930), (1474, 3719), (1577, 4617), (2092, 3122), (213, 3869), (1351, 3449), (1562, 1919), (143, 1560), (1491, 3415), (2742, 3487), (2920, 2951), (650, 4340), (1541, 3491), (165, 1553), (468, 1819), (542, 622), (940, 2501), (1827, 3054), (2480, 3568), (1409, 1518), (317, 2258), (406, 3536), (2278, 4447), (1565, 1676), (1406, 2751), (499, 2162), (2621, 4388), (746, 4329), (2751, 2763), (1919, 3948), (355, 596), (4244, 4578), (1725, 1971), (1971, 3663), (1254, 4522), (1852, 4574), (588, 1676), (1688, 3972), (1590, 4618), (3526, 3615), (2782, 3981), (483, 3964), (3848, 4289), (3516, 4056), (1109, 2272), (2069, 3023), (1856, 2565), (527, 2573), (596, 1761), (2133, 2762), (1779, 2318), (1819, 4077), (2283, 3261), (1759, 2647), (2461, 3541), (2754, 3991), (2318, 3782), (458, 1376), (413, 1084), (781, 3932), (2998, 4275), (123, 1784), (86, 4170), (1761, 1845), (68, 3973), (940, 943), (2546, 3785), (3078, 3992), (2485, 2891), (475, 534), (109, 3542), (670, 3615), (1156, 1310), (904, 2289), (1221, 3537), (1373, 3249), (2318, 2386), (839, 940), (124, 3394), (1826, 2120), (1241, 2156), (835, 1868), (333, 4050), (2558, 4081), (1192, 3078), (769, 4592), (182, 2217), (1381, 4115), (515, 705), (707, 1643), (1720, 2272), (2767, 2914), (182, 1752), (1890, 3370), (3039, 4229), (1211, 3337), (2709, 4081), (2452, 4468), (1247, 1822), (1279, 3265), (1728, 2589), (351, 3112), (1676, 4256), (3871, 4314), (408, 4432), (2759, 3034), (2472, 4533), (182, 1121), (2156, 4271), (2571, 4031), (2593, 2870), (1600, 2772), (1084, 3140), (2278, 4426), (1531, 3556), (3870, 4100), (458, 2558), (4256, 4397), (1798, 3230), (1544, 4140), (2804, 2830), (2486, 3501), (1380, 1707), (1958, 2076), (3245, 4208), (1061, 3572), (2485, 2686), (1731, 1819), (1719, 3947), (1079, 4403), (979, 3235), (1474, 1784), (3614, 4213), (2628, 2782), (497, 735), (389, 1875), (1486, 3118), (79, 1351), (2485, 3590), (2891, 3111), (570, 4005), (1254, 3210), (1152, 3457), (2508, 2754), (2821, 4208), (2971, 4481), (1800, 3283), (1800, 4498), (2899, 2922), (1496, 2958), (2763, 4233), (1819, 3927), (1023, 1503), (803, 1486), (1569, 2939), (1331, 3116), (2272, 2360), (119, 2344), (2864, 3544), (1819, 2419), (1003, 1168), (385, 3962), (1114, 2578), (419, 499), (562, 1264), (1728, 4121), (222, 352), (3683, 4151), (1351, 3152), (2886, 3054), (2393, 2499), (2248, 4412), (1114, 3621), (3054, 3699), (2916, 3112), (998, 1802), (855, 1378), (1129, 2377), (2804, 3796), (612, 4133), (715, 1505), (1827, 3781), (71, 2199), (1984, 2558), (801, 1264), (1687, 1849), (734, 2864), (2694, 2989), (2046, 2679), (2751, 3521), (1565, 3741), (3552, 3902), (2306, 2874), (724, 2901), (750, 2480), (1114, 2987), (3585, 4435), (231, 291), (1206, 1440), (1258, 1791), (514, 2388), (290, 2429), (3162, 3578), (1066, 3541), (1440, 1491), (1531, 2386), (2430, 2825), (342, 1822), (2421, 4644), (1261, 3308), (781, 4481), (1491, 4480), (4387, 4452), (1975, 2007), (3054, 4644), (1230, 1796), (2759, 3541), (4271, 4607), (176, 1376), (2810, 4556), (1032, 4151), (1823, 3719), (1991, 4167), (2217, 4105), (1573, 4170), (809, 2477), (560, 3031), (1018, 2882), (3267, 3480), (3054, 4569), (1084, 3361), (427, 3655), (2839, 3543), (3338, 4275), (1526, 2380), (1565, 2739), (1114, 1820), (2230, 2416), (89, 1971), (734, 4569), (1200, 1715), (772, 4398), (2254, 2408), (1264, 1728), (3618, 4569), (670, 4093), (960, 2831), (204, 4574), (3235, 3548), (3235, 4256), (2374, 2475), (1717, 3830), (1648, 2061), (1297, 3855), (638, 1003), (913, 1444), (547, 3360), (795, 1976), (1376, 4190), (588, 3830), (3790, 4089), (3719, 4080), (833, 2311), (1084, 1849), (1060, 2813), (1941, 2574), (2253, 4295), (3235, 3541), (1264, 1890), (2364, 3961), (1204, 4295), (1572, 4625), (3120, 4067), (1377, 2847), (1264, 3499), (931, 2922), (2132, 2673), (402, 1609), (910, 4340), (1279, 2694), (3544, 4495), (3592, 4480), (772, 1102), (1534, 4578), (913, 1397), (3, 3387), (1102, 4139), (124, 4415), (3719, 4518), (293, 1868), (2349, 4596), (2200, 2533), (1441, 2321), (2546, 2775), (2904, 4003), (786, 3618), (12, 1444), (1731, 2711), (330, 756), (419, 4578), (2597, 4038), (3546, 4080), (1060, 1520), (1963, 2154), (4232, 4276), (896, 4597), (633, 4323), (2221, 3436), (2853, 4190), (522, 3528), (1947, 2864), (89, 4595), (3436, 4274), (2164, 2961), (1114, 3982), (3525, 3706), (497, 1405), (2192, 4397), (1930, 2922), (1455, 4574), (1462, 2444), (87, 402), (316, 1735), (67, 3635), (1200, 3380), (2468, 4031), (575, 2951), (3590, 4042), (291, 2516), (2632, 4078), (1822, 2958), (804, 3788), (1741, 3825), (3576, 4401), (1988, 4052), (801, 2613), (2088, 2801), (12, 2109), (4018, 4289), (293, 4415), (1061, 2735), (1988, 4278), (2386, 4599), (44, 1114), (3822, 3941), (2990, 3611), (424, 426), (2485, 3307), (1626, 1986), (3694, 4199), (3094, 3672), (1441, 1671), (574, 1951), (249, 1212), (26, 3452), (3349, 4415), (2694, 4052), (2312, 3090), (2847, 4090), (3168, 4459), (2105, 2759), (2654, 4275), (423, 535), (670, 3078), (872, 2920), (864, 2088), (1904, 3590), (1819, 1845), (1220, 4644), (1830, 2999), (1212, 2344), (950, 1919), (2315, 3926), (1323, 1604), (695, 837), (68, 2782), (967, 1497), (111, 2218), (1834, 2408), (1633, 1919), (191, 931), (194, 475), (1491, 2491), (3297, 4105), (1794, 2342), (1822, 3552), (2388, 2468), (1967, 2236), (896, 3373), (947, 3054), (1498, 1669), (2018, 3122), (419, 2377), (182, 385), (1535, 3855), (4363, 4569), (1991, 4049), (393, 724), (811, 1645), (1220, 1627), (1114, 1210), (36, 4415), (101, 398), (930, 1890), (3764, 3830), (69, 2408), (1535, 3107), (483, 1377), (1750, 4096), (4384, 4612), (2318, 3204), (2164, 3875), (1728, 3912), (2149, 3621), (1971, 3864), (3614, 4361), (3712, 4043), (1181, 1997), (419, 854), (3235, 3495), (3394, 3404), (2753, 4587), (596, 1119), (2497, 2759), (1971, 3751), (1444, 1920), (494, 2892), (2468, 3777), (1982, 3526), (316, 1279), (324, 3954), (2783, 4468), (194, 406), (2102, 3655), (1875, 4331), (1108, 3341), (1084, 4363), (1763, 2112), (2408, 3484), (3530, 4105), (588, 2468), (4038, 4078), (735, 4642), (2276, 3250), (1351, 4120), (1027, 2009), (963, 3325), (847, 2885), (1802, 2373), (3686, 3895), (2766, 3256), (1014, 2302), (1819, 3726), (610, 3989), (1285, 4529), (1380, 1717), (2091, 2283), (388, 3118), (1563, 2167), (1812, 3831), (517, 1921), (132, 4116), (1960, 4607), (1546, 3537), (2228, 4352), (1777, 2896), (1764, 3099), (2905, 4331), (2864, 3516), (93, 4341), (1057, 1715), (4142, 4410), (2278, 2995), (715, 2529), (1681, 2327), (1614, 2224), (1774, 3167), (1615, 3757), (1235, 2951), (427, 1540), (2782, 4621), (1254, 1504), (2112, 3185), (811, 2589), (1766, 3066), (1321, 4280), (1426, 1661), (1540, 4331), (2192, 3552), (784, 2842), (3719, 4547), (855, 4217), (2650, 2754), (982, 4323), (25, 1440), (3054, 3895), (1048, 2940), (499, 518), (3122, 3453), (2102, 2850), (3742, 4542), (3991, 4612), (1708, 3719), (87, 2713), (2082, 3135), (2852, 4397), (656, 1026), (742, 1518), (3667, 4607), (2475, 2667), (2318, 3831), (1805, 2112), (935, 1211), (656, 2499), (72, 877), (1816, 3298), (1860, 2950), (152, 1217), (562, 4121), (2767, 4273), (888, 2894), (870, 3048), (1822, 2904), (1271, 1496), (68, 2113), (1616, 2779), (982, 2261), (419, 1206), (2306, 2623), (982, 3530), (1259, 3325), (560, 1873), (499, 1247), (4003, 4323), (1936, 4596), (2739, 4617), (1708, 2694), (1383, 1737), (2112, 4507), (983, 3757), (2283, 2303), (3260, 3819), (2215, 2252), (855, 4449), (570, 2088), (574, 4578), (2639, 3235), (847, 1543), (2337, 3837), (1800, 3265), (735, 1924), (781, 3561), (1822, 2622), (1971, 4496), (3271, 4569), (1728, 3905), (833, 3042), (1240, 2166), (4286, 4636), (1715, 2011), (1919, 2921), (2408, 4447), (1348, 2154), (2501, 2548), (406, 3116), (85, 3120), (2468, 3205), (2799, 4574), (1932, 4275), (2751, 4539), (952, 982), (573, 3704), (1380, 2894), (2927, 4608), (720, 2606), (2006, 3509), (512, 1731), (1656, 3686), (2495, 2952), (1184, 4127), (2108, 3056), (1381, 2771), (1750, 2156), (2475, 3000), (1687, 4045), (2775, 2984), (2983, 4596), (1264, 1984), (2920, 3325), (815, 3184), (2059, 2283), (1585, 2597), (2475, 4285), (2548, 3921), (855, 1267), (2344, 3621), (940, 2345), (940, 2686), (158, 1819), (3804, 4569), (1153, 4133), (2059, 3811), (2112, 3217), (3719, 4037), (3548, 4459), (2475, 3346), (60, 1664), (1958, 2388), (1076, 4598), (2164, 2759), (1080, 1734), (2018, 2475), (20, 150), (1025, 2315), (1505, 2548), (2027, 2112), (1819, 4451), (1264, 4271), (4151, 4397), (793, 3719), (458, 1220), (1577, 2979), (1807, 2223), (3826, 4270), (112, 3122), (929, 2806), (3112, 4295), (1819, 3239), (3520, 3554), (1531, 2310), (473, 2399), (3046, 3054), (296, 4121), (3271, 3457), (1526, 2143), (1361, 3078), (213, 2480), (1084, 2760), (719, 2359), (1444, 4261), (2862, 3758), (1351, 3579), (3443, 4015), (2318, 2633), (1920, 3861), (14, 2140), (783, 3590), (2081, 3759), (3173, 3460), (212, 1826), (680, 2790), (940, 1252), (813, 935), (1121, 3871), (2622, 3343), (1027, 2480), (406, 1024), (1714, 4052), (1114, 4043), (417, 2429), (475, 1691), (1143, 4142), (84, 2247), (2807, 2998), (485, 3526), (2499, 3069), (307, 1615), (1544, 3496), (1693, 3123), (1114, 3891), (2736, 2864), (724, 4364), (1565, 2876), (2686, 3871), (2911, 4415), (308, 1715), (1210, 3054), (165, 3056), (1351, 4412), (2475, 4246), (365, 1212), (1667, 3496), (1583, 4142), (1456, 1819), (240, 1062), (2940, 4273), (4170, 4607), (1129, 1565), (749, 2388), (3333, 4618), (1518, 2548), (390, 440), (838, 2480), (402, 4190), (2475, 4352), (823, 4190), (2275, 4018), (2645, 3841), (1455, 1541), (111, 2217), (452, 2830), (1741, 4208), (12, 2046), (1919, 4410), (3719, 4069), (64, 2643), (129, 2978), (182, 514), (1409, 4326), (909, 1585), (2578, 3226), (354, 4110), (107, 1802), (1351, 2235), (614, 2762), (699, 3512), (872, 1851), (2240, 3969), (12, 3271), (1217, 1565), (2361, 3962), (182, 1930), (2090, 2879), (915, 4240), (4169, 4468), (3903, 3921), (2613, 4081), (1941, 3349), (202, 4515), (69, 3054), (1774, 4259), (194, 3830), (1376, 1633), (2532, 2686), (458, 3499), (784, 2482), (56, 2315), (2408, 2455), (574, 1375), (129, 1603), (735, 2173), (562, 3159), (1919, 3526), (1220, 2828), (129, 2233), (3120, 4142), (1486, 3615), (1210, 4617), (194, 3781), (222, 1819), (569, 4398), (574, 3081), (673, 4323), (182, 1404), (3035, 4070), (1496, 3226), (1890, 4042), (1496, 2966), (847, 3749), (3441, 3719), (305, 1212), (769, 3463), (3757, 4607), (851, 4385), (1211, 3537), (1251, 1550), (982, 1808), (1212, 1865), (98, 1397), (222, 2196), (1931, 3242), (2336, 3519), (1276, 2935), (1441, 2239), (2753, 4081), (249, 1728), (2445, 2574), (68, 3182), (2761, 4401), (71, 1518), (1822, 1827), (1332, 2759), (595, 2840), (781, 1394), (3439, 4078), (150, 1310), (1319, 3782), (170, 1293), (601, 1890), (811, 2552), (1040, 2480), (60, 3784), (1912, 2283), (4347, 4482), (251, 2475), (1316, 3122), (2490, 3178), (596, 3322), (98, 4100), (68, 3181), (2820, 3830), (1713, 1845), (2864, 3548), (1802, 2304), (365, 735), (111, 3739), (2149, 3046), (2438, 2726), (1565, 4208), (388, 2654), (4060, 4105), (1819, 2574), (1119, 2617), (1084, 4140), (2388, 2868), (570, 3210), (820, 3339), (2239, 3948), (34, 1694), (351, 1507), (2864, 3449), (3499, 3501), (2436, 2788), (485, 1192), (410, 3327), (842, 2278), (2177, 2519), (580, 3399), (1971, 2133), (1154, 1476), (1354, 4043), (1243, 2388), (862, 2475), (2034, 3592), (1075, 3803), (68, 4447), (1249, 3719), (2475, 3184), (1750, 3521), (609, 2113), (1832, 4206), (1779, 2237), (402, 1784), (815, 982), (559, 3511), (940, 1830), (1904, 4208), (1761, 4109), (2240, 4499), (2550, 3911), (2546, 3541), (749, 1802), (1675, 2344), (1370, 1376), (2046, 2480), (3781, 4275), (686, 1802), (2556, 4569), (842, 3218), (1819, 3545), (350, 2998), (109, 2168), (2831, 2920), (111, 250), (694, 4240), (2633, 4397), (3718, 4288), (182, 4374), (1952, 3072), (1565, 2821), (4323, 4556), (2205, 2677), (3213, 3239), (170, 3626), (1264, 4523), (940, 1171), (433, 4142), (702, 3089), (894, 3202), (3195, 4393), (2530, 3541), (735, 1107), (1671, 3055), (213, 3683), (1114, 1486), (222, 963), (1422, 3120), (246, 2424), (87, 3876), (3244, 4499), (68, 1565), (3396, 3592), (2164, 3811), (701, 4004), (1440, 4390), (2736, 3529), (1231, 1819), (2018, 2034), (1819, 2044), (3396, 3526), (1139, 3210), (2753, 4278), (1411, 2480), (1593, 3890), (191, 3089), (1889, 4151), (779, 3830), (83, 2138), (1585, 4339), (1976, 2783), (107, 3222), (2344, 4208), (2472, 2881), (123, 1411), (3104, 3966), (1266, 3649), (414, 548), (1502, 3856), (1543, 3394), (342, 1565), (174, 3871), (2477, 3855), (419, 976), (804, 3122), (1239, 2283), (2451, 3452), (1351, 3250), (308, 1988), (330, 1334), (2865, 3007), (2904, 4118), (793, 3598), (1438, 1822), (596, 4493), (2475, 3395), (165, 2283), (680, 4144), (3830, 4052), (1515, 2318), (1194, 4607), (522, 1264), (217, 3723), (293, 947), (388, 4478), (633, 2529), (310, 2940), (2253, 3030), (207, 3615), (207, 1593), (2287, 3758), (2879, 4604), (384, 656), (1755, 4295), (776, 2080), (2283, 4575), (2156, 2408), (2754, 4435), (1431, 3605), (3106, 4598), (71, 2171), (950, 2475), (1210, 4607), (574, 2252), (1764, 3235), (135, 3902), (2958, 3645), (1376, 4204), (569, 1505), (896, 4125), (257, 1560), (871, 3301), (402, 1750), (570, 3078), (2690, 4042), (2046, 2318), (659, 3855), (2716, 4078), (1299, 1819), (840, 3122), (858, 1766), (3671, 4596), (1688, 2726), (3032, 3719), (764, 3080), (2388, 2393), (1830, 2283), (514, 2283), (4489, 4551), (1578, 4415), (1486, 2829), (1976, 3559), (2465, 4367), (2194, 4190), (695, 3343), (596, 2455), (442, 1381), (2475, 2587), (1715, 2926), (307, 823), (1024, 2773), (1010, 1523), (1603, 2925), (1826, 3665), (596, 3696), (39, 1819), (2475, 2594), (1819, 2838), (1383, 1822), (1041, 2475), (2062, 2484), (4411, 4642), (1510, 4052), (1802, 3758), (1200, 1397), (823, 2837), (596, 2344), (697, 1874), (596, 967), (1200, 1819), (294, 1585), (1254, 1848), (3830, 4323), (590, 3318), (2394, 3520), (781, 1893), (3373, 3830), (236, 872), (574, 2841), (1375, 3511), (656, 2357), (2643, 2754), (366, 2751), (2480, 2958), (1035, 3448), (2334, 3363), (2501, 4280), (781, 3180), (1822, 2193), (3719, 4624), (3121, 4331), (888, 4289), (1819, 3538), (1768, 4412), (959, 2201), (1722, 2650), (2420, 4403), (1534, 3766), (967, 1375), (1826, 2480), (1526, 3867), (811, 3723), (1805, 2686), (516, 3128), (2306, 2686), (3335, 4596), (707, 3244), (1394, 2480), (1252, 4617), (167, 307), (2589, 2686), (1820, 1878), (12, 913), (1089, 2677), (2649, 2777), (1867, 3526), (2361, 3686), (1819, 4301), (275, 940), (2485, 4397), (681, 2157), (2775, 2977), (2095, 2468), (1022, 2318), (503, 3394), (2554, 2681), (1399, 4043), (2475, 3272), (497, 2874), (204, 4331), (527, 4048), (485, 3871), (44, 2613), (388, 4618), (2958, 3080), (393, 2901), (1971, 2085), (1029, 1540), (1565, 2577), (783, 2475), (33, 291), (1958, 3170), (447, 2020), (473, 3271), (68, 116), (33, 3515), (438, 3179), (724, 2284), (1386, 2506), (1067, 1220), (1687, 2361), (2812, 3135), (2840, 2864), (2810, 3812), (293, 1276), (2922, 4127), (93, 3600), (1819, 4234), (1387, 1819), (804, 2922), (2495, 3533), (745, 2201), (3078, 4481), (3871, 4121), (98, 2491), (811, 2562), (499, 2342), (1903, 2013), (1549, 2887), (847, 1172), (157, 2171), (538, 3106), (2073, 2847), (1363, 3828), (217, 2504), (1518, 1890), (1878, 2311), (1527, 1826), (715, 2583), (1965, 4422), (350, 1166), (1822, 3719), (1375, 1713), (735, 2519), (1395, 1819), (293, 1032), (408, 931), (125, 3303), (1325, 1515), (4114, 4539), (68, 1479), (929, 3176), (998, 3967), (574, 1702), (3072, 4569), (1425, 3719), (3086, 4142), (969, 1318), (1919, 3969), (656, 1958), (384, 2381), (617, 2475), (1561, 2156), (1294, 2102), (631, 1941), (2574, 3696), (392, 596), (811, 2735), (87, 499), (351, 3106), (171, 361), (689, 1966), (2207, 3121), (2014, 2046), (182, 1992), (576, 903), (853, 2408), (2278, 3423), (562, 3154), (3372, 4154), (631, 707), (1615, 4407), (1462, 2958), (2804, 4316), (68, 3936), (182, 1370), (2686, 4015), (3605, 3822), (2475, 3521), (694, 1059), (1931, 2759), (2546, 4511), (2393, 2796), (3308, 4289), (823, 4124), (640, 2484), (3615, 4288), (568, 2278), (4044, 4642), (341, 2018), (828, 2393), (3817, 4443), (2422, 3496), (126, 2051), (497, 2558), (108, 2281), (182, 708), (1486, 2386), (3387, 3785), (226, 1693), (2059, 2330), (213, 1543), (2706, 3552), (1220, 2820), (1264, 4441), (527, 3484), (330, 4239), (1227, 1676), (2379, 3134), (1422, 3271), (570, 3200), (1554, 2015), (942, 1595), (1619, 3719), (518, 982), (182, 815), (1455, 3493), (2548, 4151), (217, 3293), (427, 2304), (2316, 4596), (3626, 3719), (4, 4397), (982, 1258), (2061, 4632), (215, 442), (4105, 4190), (194, 573), (1909, 2574), (88, 1941), (100, 2278), (310, 2428), (378, 3236), (843, 2777), (3349, 3526), (2061, 2475), (1344, 1397), (3719, 4462), (656, 1143), (574, 1543), (1905, 3078), (734, 2205), (1486, 2046), (1857, 3307), (1988, 2076), (1084, 2036), (98, 3487), (1497, 4239), (1707, 3719), (3264, 3380), (499, 4260), (67, 2321), (2352, 3235), (1115, 4452), (1919, 2530), (2818, 4275), (165, 1351), (777, 1819), (769, 4266), (2294, 4597), (374, 2112), (1064, 1449), (2468, 2591), (735, 1030), (501, 982), (1762, 4070), (2102, 2193), (1819, 2318), (3767, 4415), (815, 3576), (4038, 4200), (286, 3712), (574, 1283), (1925, 2042), (81, 1976), (2961, 3646), (1254, 2337), (842, 1822), (2416, 4588), (3470, 3526), (1977, 3107), (240, 982), (427, 2080), (823, 4468), (1819, 2036), (588, 2922), (1565, 4475), (2839, 4344), (2275, 4205), (1311, 2998), (2444, 4443), (111, 786), (1258, 3372), (3962, 4190), (1254, 1365), (596, 2469), (708, 1825), (111, 2592), (2894, 2901), (2643, 2964), (36, 387), (1333, 4568), (1417, 4607), (1129, 4415), (3311, 3719), (1553, 1695), (2520, 3646), (384, 1958), (642, 982), (2388, 2922), (2767, 3962), (1096, 4516), (308, 1279), (605, 3747), (3921, 4078), (1353, 3054), (4193, 4504), (111, 3793), (197, 2901), (324, 772), (342, 940), (388, 1822), (880, 3719), (1042, 4142), (596, 3779), (158, 1318), (878, 2550), (1264, 4070), (623, 2475), (1153, 1436), (617, 4190), (330, 4476), (402, 457), (998, 2018), (1910, 2368), (1455, 1867), (322, 588), (68, 1562), (62, 1354), (813, 3051), (2753, 2953), (2303, 4096), (1397, 1761), (1802, 1973), (1332, 3034), (49, 464), (2480, 3343), (1941, 3612), (191, 823), (1585, 4412), (2864, 2891), (735, 1800), (307, 2566), (107, 1688), (2632, 4107), (872, 4270), (1065, 3372), (72, 3501), (2419, 2751), (3217, 3719), (2149, 3446), (1935, 4151), (1965, 2606), (811, 3297), (499, 1376), (1474, 2275), (3131, 3394), (286, 2421), (53, 2847), (1381, 4128), (1884, 4323), (1890, 2558), (1941, 4481), (223, 1784), (1107, 3811), (2480, 3358), (2922, 4585), (531, 809), (2613, 3599), (695, 1715), (2076, 4190), (291, 3699), (1285, 4403), (1687, 1800), (2829, 4189), (2660, 3078), (1142, 2864), (3452, 4077), (523, 1114), (1958, 4443), (1440, 3191), (1170, 3118), (721, 4070), (3880, 4607), (2479, 4078), (1845, 2878), (223, 2234), (150, 399), (2863, 4415), (1372, 2606), (1741, 2022), (1397, 2466), (2278, 3748), (42, 3264), (811, 4323), (1880, 4335), (291, 2853), (1728, 2954), (1350, 2046), (220, 4031), (912, 2818), (750, 2864), (406, 704), (389, 2922), (1733, 1943), (3240, 3291), (596, 2421), (87, 4151), (1590, 3250), (769, 4078), (240, 2306), (1531, 2741), (1378, 2999), (1904, 3213), (1441, 2225), (2931, 4598), (140, 2193), (2794, 3372), (1723, 2303), (570, 2820), (499, 4573), (1599, 1919), (648, 1948), (1405, 3054), (1919, 3646), (182, 2990), (3993, 4142), (2205, 2958), (811, 3855), (123, 3719), (518, 3380), (3094, 4127), (2901, 3644), (68, 3890), (1723, 3672), (811, 1762), (847, 1822), (2790, 3719), (2654, 4556), (68, 3881), (1351, 1518), (393, 2548), (1498, 2753), (1066, 2393), (1802, 1912), (957, 1351), (1073, 3007), (2361, 3380), (1007, 1931), (1215, 4133), (2864, 4021), (928, 1822), (1016, 1052), (793, 1206), (2110, 4270), (1075, 4504), (614, 2372), (932, 4005), (2501, 3923), (1800, 4088), (2454, 2956), (1306, 3261), (781, 2623), (419, 909), (26, 105), (1376, 3122), (448, 3451), (3590, 3621), (166, 4398), (1168, 2812), (1440, 4088), (532, 553), (1558, 4038), (596, 724), (855, 1183), (105, 308), (688, 1976), (248, 2278), (702, 3719), (81, 2337), (2258, 2342), (485, 2987), (251, 2268), (2300, 2306), (1383, 1455), (1496, 3527), (61, 2154), (1890, 3568), (367, 1779), (2952, 3615), (1598, 1754), (2824, 2831), (248, 476), (2418, 2593), (431, 3781), (145, 2069), (670, 3739), (1139, 2759), (1197, 1461), (291, 4331), (1535, 1902), (896, 4078), (385, 2741), (906, 1809), (1404, 2475), (2294, 3378), (2361, 3912), (1941, 2080), (1826, 2879), (281, 847), (1440, 3563), (1212, 3986), (1518, 2379), (2085, 4142), (123, 1157), (596, 2853), (2591, 3748), (777, 3948), (1397, 1912), (808, 2532), (68, 2668), (3226, 4607), (940, 3750), (2159, 2407), (3169, 3487), (1676, 2026), (291, 4229), (2613, 4037), (393, 2831), (479, 3122), (2720, 4295), (42, 125), (247, 4295), (2512, 2872), (1297, 4261), (1854, 3592), (182, 2578), (2480, 2648), (213, 1774), (928, 2601), (165, 1941), (1037, 1061), (3386, 4299), (1756, 2831), (109, 3484), (2609, 4070), (79, 2558), (681, 962), (388, 4275), (223, 2283), (1209, 1565), (340, 2506), (78, 2408), (2214, 2408), (2804, 4151), (2361, 3118), (1693, 2317), (109, 1597), (1678, 2294), (2529, 3200), (940, 1675), (3285, 4179), (940, 1524), (2313, 3751), (402, 4474), (811, 1238), (39, 2804), (1826, 2375), (1364, 3518), (2057, 2247), (3471, 3964), (1226, 4160), (378, 940), (1194, 1351), (1784, 2522), (71, 1440), (1671, 3781), (981, 1228), (811, 3138), (1163, 1264), (56, 4367), (739, 2445), (341, 1376), (2246, 3719), (2554, 3781), (4151, 4270), (2484, 2759), (1830, 2850), (43, 3719), (3387, 4285), (1284, 3565), (2606, 4481), (1907, 3954), (1166, 3826), (1174, 2625), (2622, 4583), (623, 3259), (1081, 3122), (734, 931), (3374, 4159), (3099, 3577), (26, 172), (872, 2818), (213, 2951), (108, 2033), (1310, 4515), (1062, 1819), (240, 1826), (896, 3507), (940, 3297), (387, 1898), (603, 1571), (457, 1976), (166, 2870), (588, 2388), (1565, 1832), (2294, 3912), (2989, 3089), (1341, 3496), (427, 992), (182, 4001), (1351, 3442), (815, 4048), (1459, 2831), (793, 3054), (1405, 2011), (1707, 3552), (1210, 1742), (913, 2705), (284, 2046), (777, 1341), (433, 2558), (708, 2475), (2318, 3592), (2480, 2615), (1294, 3652), (1941, 2990), (2501, 3467), (725, 1976), (2225, 3829), (2388, 3757), (547, 4536), (2113, 2499), (815, 1510), (377, 411), (1819, 2704), (2379, 4501), (2278, 3942), (1919, 2355), (1479, 2977), (708, 2905), (111, 3204), (3719, 3984), (931, 2491), (2782, 3122), (93, 1453), (1672, 1715), (109, 2799), (3336, 4478), (307, 2485), (48, 3902), (801, 1728), (2253, 4259), (1728, 3133), (152, 2935), (182, 2377), (1540, 2475), (2920, 2979), (2011, 2480), (2959, 4070), (1099, 2591), (1163, 1791), (1376, 2080), (2065, 3526), (1774, 2467), (3332, 3962), (67, 665), (1455, 2032), (2820, 2885), (869, 1465), (981, 1425), (844, 2582), (940, 4200), (1482, 4331), (3590, 4518), (2742, 2796), (1400, 3552), (1780, 2606), (3054, 4518), (1237, 2229), (581, 1819), (931, 2444), (489, 1820), (1580, 3499), (3420, 4038), (193, 1759), (3298, 4612), (596, 3239), (1082, 2280), (3856, 3921), (2408, 4094), (1024, 3621), (259, 2475), (3456, 3719), (430, 2754), (1061, 1826), (191, 444), (285, 1731), (560, 656), (1297, 1868), (1595, 4447), (1728, 2830), (670, 3178), (4334, 4382), (3073, 3996), (940, 3924), (427, 3100), (1577, 4340), (492, 3155), (3719, 4171), (1852, 3719), (781, 1783), (963, 2868), (68, 3831), (3048, 4582), (1959, 2018), (2475, 4601), (940, 1668), (2881, 4288), (297, 3758), (1341, 2932), (2304, 3758), (152, 2105), (649, 4295), (3034, 3811), (316, 3496), (2286, 2499), (122, 772), (2340, 3964), (1693, 2213), (1875, 1920), (79, 1826), (1878, 2739), (2630, 2922), (1890, 2589), (904, 3615), (1351, 1634), (475, 3548), (2485, 3072), (2937, 3078), (519, 4053), (1543, 2760), (2306, 3530), (1227, 1399), (1785, 4568), (1680, 1819), (245, 2271), (119, 2173), (3154, 3781), (373, 562), (556, 2901), (1688, 2131), (100, 3208), (3376, 4133), (1072, 3621), (564, 3859), (373, 2997), (2432, 3948), (3387, 4443), (2278, 4103), (1136, 1819), (1058, 1062), (670, 2032), (1977, 2864), (2112, 2242), (548, 2100), (1535, 4318), (1376, 4142), (1278, 3794), (1928, 3143), (2393, 4289), (454, 1571), (3786, 4133), (3132, 3871), (2195, 2865), (855, 4180), (1628, 2318), (1579, 1845), (1784, 2468), (1114, 2890), (3452, 3573), (3436, 4522), (310, 1007), (3210, 4572), (2630, 2751), (842, 1491), (473, 596), (702, 724), (33, 217), (2671, 2864), (2182, 4100), (399, 1440), (1965, 3467), (1502, 3235), (1816, 3875), (815, 3259), (107, 165), (1227, 3970), (2546, 2965), (2382, 3719), (2456, 4436), (291, 3667), (1526, 2533), (1826, 3632), (2388, 4192), (483, 2473), (1247, 1563), (1704, 1744), (1676, 3310), (2156, 4300), (588, 926), (12, 864), (3179, 3785), (1478, 3008), (1376, 1875), (1231, 2532), (1496, 4232), (854, 2516), (588, 1479), (592, 1734), (623, 1390), (367, 1479), (3178, 3410), (967, 1228), (1513, 3830), (2287, 3719), (890, 1064), (670, 2408), (1227, 1899), (456, 592), (1819, 2673), (1053, 4607), (322, 4005), (2490, 4454), (87, 2452), (1200, 1675), (735, 1585), (316, 4380), (1819, 3846), (2935, 4103), (87, 808), (400, 1944), (3254, 4124), (1396, 3177), (1505, 3505), (3987, 4013), (213, 4522), (1050, 3541), (2804, 3510), (719, 1351), (3380, 4340), (963, 4038), (1819, 2589), (3815, 4374), (1143, 2905), (1764, 4382), (724, 2760), (1455, 3781), (777, 3546), (1512, 3704), (1810, 3819), (811, 2069), (2804, 3847), (1255, 3954), (1587, 1816), (1185, 1593), (247, 4121), (1351, 1912), (2252, 4137), (825, 3011), (1184, 1941), (3089, 4397), (1068, 1486), (1284, 3830), (2530, 2865), (588, 3007), (777, 1399), (1012, 2046), (2754, 4105), (2630, 3782), (573, 1200), (929, 1889), (316, 3805), (2385, 2951), (367, 2207), (2767, 3852), (844, 1534), (518, 2862), (1377, 2480), (3501, 4283), (223, 2480), (1513, 3452), (2360, 3742), (4042, 4052), (2937, 3235), (2475, 3358), (3118, 4403), (837, 1429), (1285, 2455), (1150, 2759), (596, 2173), (2295, 2864), (776, 4289), (3254, 3948), (1318, 2975), (3178, 3852), (170, 1019), (2018, 3491), (291, 3900), (3011, 3618), (1047, 2217), (289, 1819), (2475, 3387), (1168, 2359), (1615, 4594), (1178, 4477), (2303, 3855), (2491, 3849), (2315, 2371), (2516, 3249), (648, 2281), (1585, 2687), (3452, 4569), (1217, 3121), (1931, 2099), (72, 2388), (431, 2919), (1152, 2899), (823, 1185), (1264, 4323), (628, 3380), (4, 2414), (1220, 1585), (1284, 2306), (1067, 2306), (695, 940), (855, 4546), (316, 4520), (107, 1455), (1857, 2533), (213, 3576), (781, 2710), (1367, 1694), (119, 2771), (384, 2402), (3034, 3178), (777, 1168), (3118, 4468), (2580, 3615), (1251, 1762), (650, 3572), (4015, 4156), (1441, 1762), (434, 4298), (2565, 3962), (60, 2408), (1294, 1486), (2940, 4271), (982, 1872), (2106, 3719), (1531, 1971), (2606, 2874), (538, 2694), (1139, 1351), (38, 1397), (1826, 1932), (629, 1847), (166, 3089), (462, 1970), (749, 2382), (2240, 2475), (496, 4379), (926, 3387), (325, 2633), (3235, 3261), (2530, 3121), (68, 341), (2847, 3941), (4038, 4644), (278, 2484), (867, 3021), (1562, 3712), (781, 2606), (499, 1088), (3747, 4397), (2670, 2864), (79, 3572), (12, 1861), (2694, 4418), (2346, 3615), (1941, 3316), (2278, 2938), (1802, 3222), (1205, 2393), (562, 2718), (467, 574), (749, 980), (213, 4067), (4218, 4467), (217, 3678), (196, 2987), (596, 1270), (890, 3552), (715, 4519), (134, 599), (223, 3163), (724, 842), (3455, 4127), (556, 2710), (3736, 3921), (3526, 4468), (735, 3006), (107, 2218), (129, 1478), (1819, 2544), (1465, 2773), (1505, 2772), (1969, 1976), (1486, 4031), (2386, 2506), (2154, 3144), (2099, 4273), (2492, 3871), (2285, 3369), (1279, 4464), (2881, 4533), (68, 3313), (2432, 2859), (1107, 1756), (527, 4443), (847, 3683), (750, 1851), (1185, 3752), (36, 2306), (1045, 1812), (3085, 4198), (1177, 1440), (111, 3804), (915, 1073), (592, 855), (793, 967), (2998, 3737), (1941, 2028), (896, 4522), (1147, 4190), (3719, 3806), (3644, 3719), (1892, 2920), (388, 4177), (3300, 3719), (1074, 4052), (3748, 4040), (1585, 2670), (430, 2359), (384, 3387), (801, 3293), (194, 1422), (431, 517), (2127, 4295), (2111, 2117), (1714, 2228), (1152, 4531), (111, 2273), (1397, 1783), (295, 2278), (430, 3552), (636, 3200), (279, 4401), (3830, 4152), (3202, 4374), (2934, 4190), (471, 2580), (3972, 3976), (482, 2777), (2382, 2754), (322, 2195), (2955, 4295), (179, 4335), (368, 1408), (1819, 3316), (1800, 3542), (497, 2361), (1278, 2283), (1585, 2234), (574, 1585), (1855, 4177), (514, 3310), (1585, 4626), (1920, 4542), (4415, 4618), (1422, 2666), (1496, 1595), (1819, 2865), (2003, 3719), (2864, 4571), (2987, 3781), (427, 2123), (4179, 4239), (982, 1100), (855, 2544), (1826, 3301), (129, 1420), (538, 1684), (1284, 2885), (1844, 1867), (1557, 1857), (1486, 2905), (847, 1715), (1486, 2703), (392, 1728), (855, 2925), (574, 3006), (1623, 4105), (2171, 3536), (1762, 2862), (596, 2606), (1691, 4295), (1210, 2611), (291, 1258), (111, 1748), (194, 1676), (2342, 4275), (3325, 4452), (2608, 3739), (1793, 4601), (982, 4423), (781, 3884), (1309, 3855), (535, 1842), (1727, 3178), (29, 366), (2515, 2875), (471, 3077), (51, 2606), (62, 3954), (2421, 4323), (2408, 4569), (1648, 1819), (690, 1220), (1841, 4397), (574, 3031), (2302, 3471), (182, 4027), (2379, 4397), (2388, 4169), (446, 1397), (2797, 4533), (355, 3828), (3623, 4137), (203, 1523), (596, 3041), (769, 3328), (217, 4170), (1280, 4491), (655, 4518), (1084, 1103), (1050, 3804), (1703, 3046), (216, 4596), (3341, 4397), (318, 583), (1254, 3428), (289, 982), (1819, 3443), (220, 2018), (1294, 1397), (1945, 2597), (1540, 2393), (1496, 2058), (1179, 1826), (3506, 4095), (1415, 1593), (373, 2951), (2032, 3915), (735, 784), (3941, 4174), (944, 1013), (1200, 1400), (1556, 3169), (384, 896), (2920, 4642), (3118, 4341), (514, 704), (105, 2831), (2874, 3452), (2760, 3723), (2700, 4078), (940, 2344), (1139, 1486), (207, 1812), (2751, 4393), (683, 1084), (2205, 3031), (2671, 2852), (982, 1727), (706, 2586), (982, 3117), (838, 4434), (63, 1502), (3541, 4493), (324, 4118), (735, 2864), (1841, 2894), (485, 1621), (482, 3496), (3946, 4190), (2225, 2239), (1231, 1971), (2046, 2336), (81, 307), (917, 1061), (111, 1486), (499, 4339), (1278, 1376), (1084, 2832), (157, 2891), (1399, 4048), (1850, 2551), (126, 4323), (2051, 2831), (3148, 4569), (659, 1565), (419, 2092), (596, 3199), (12, 4397), (404, 1220), (3880, 4415), (525, 3719), (1791, 2192), (1659, 2951), (811, 1096), (940, 3859), (79, 1212), (2475, 3646), (3912, 4288), (1450, 3054), (538, 2908), (1496, 3127), (514, 4142), (1693, 2746), (1603, 1878), (1452, 2113), (1820, 2951), (2666, 3921), (1523, 1670), (3072, 3967), (1272, 2429), (1414, 2949), (20, 2989), (182, 2954), (930, 1303), (4359, 4551), (81, 3781), (79, 1676), (12, 1254), (2536, 3552), (213, 2302), (855, 2479), (3683, 4415), (1254, 1498), (1534, 3954), (827, 1172), (164, 4477), (781, 4449), (1571, 1977), (93, 1294), (2344, 2690), (1397, 4356), (376, 3372), (1574, 4102), (168, 3088), (904, 3644), (1441, 4377), (1496, 2763), (3686, 4137), (512, 3235), (1600, 2426), (2751, 2973), (3341, 4107), (2691, 4101), (531, 2046), (1375, 3996), (1932, 3686), (560, 1834), (499, 3202), (1958, 1976), (786, 4569), (1510, 4151), (107, 3467), (1025, 4038), (2613, 4472), (4228, 4344), (1750, 2285), (68, 911), (811, 2853), (478, 1134), (1212, 1543), (940, 1603), (107, 3615), (1002, 3763), (1376, 3831), (773, 3738), (1486, 4169), (1399, 1851), (2182, 4278), (889, 1819), (67, 707), (1440, 1715), (2804, 4379), (535, 3235), (3052, 3723), (2397, 4295), (1121, 4078), (1453, 4379), (3678, 4397), (165, 3815), (1397, 2366), (608, 3628), (2408, 2905), (68, 3748), (499, 896), (2418, 4118), (1826, 4194), (2149, 4215), (998, 2109), (2950, 3094), (1941, 3335), (573, 2379), (3830, 4067), (1264, 3572), (660, 1381), (2254, 2645), (1767, 2306), (43, 3793), (1569, 2676), (1988, 3845), (3380, 4415), (811, 3893), (1285, 2205), (1061, 3667), (720, 2249), (93, 707), (2789, 4142), (1301, 1440), (509, 2428), (2434, 2905), (1627, 2258), (1521, 2613), (903, 4617), (811, 3343), (562, 2701), (590, 4434), (3819, 4037), (561, 3964), (1819, 3958), (3154, 3270), (2475, 3069), (1185, 4341), (200, 1819), (1112, 3804), (1319, 3759), (586, 4331), (1029, 2922), (2413, 2759), (2205, 2475), (543, 4269), (724, 2480), (811, 3557), (2983, 4443), (875, 1565), (1976, 2475), (1819, 2621), (406, 1648), (2760, 3394), (485, 2773), (982, 3702), (945, 1578), (222, 1967), (2149, 2831), (2475, 3662), (982, 4020), (252, 3264), (2485, 2894), (2112, 4272), (408, 2070), (2468, 3121), (1380, 1826), (2520, 2554), (78, 1971), (2192, 2754), (337, 2018), (2999, 3680), (1486, 2004), (196, 2275), (1742, 2694), (570, 1444), (1084, 3924), (2864, 3053), (982, 4421), (433, 2105), (2379, 4081), (3381, 4177), (1445, 4173), (214, 859), (323, 1826), (158, 1565), (2592, 4478), (844, 1254), (2479, 3235), (3499, 4481), (2711, 2901), (4244, 4519), (2919, 4275), (293, 3054), (322, 556), (815, 3877), (492, 1121), (913, 1535), (2631, 4331), (497, 2847), (267, 562), (4130, 4285), (1114, 3719), (406, 815), (842, 3646), (1982, 3011), (560, 723), (2546, 4267), (2318, 3719), (969, 1258), (4132, 4177), (1221, 3817), (1223, 1453), (562, 1617), (781, 4353), (1269, 3719), (478, 2189), (1998, 2759), (982, 2701), (1370, 2922), (4142, 4300), (2598, 3452), (367, 392), (1929, 2901), (1128, 3252), (1802, 2943), (1923, 2484), (3855, 4507), (1209, 1381), (823, 2105), (657, 1715), (1814, 2751), (68, 1537), (1502, 1841), (60, 1976), (222, 2558), (1820, 2306), (3185, 3598), (3373, 3812), (368, 4273), (3007, 3166), (1294, 3915), (2283, 3889), (982, 4165), (483, 1910), (1463, 1693), (325, 2000), (1496, 3122), (844, 3235), (781, 2379), (1693, 2183), (1041, 1971), (3182, 3332), (2920, 3233), (304, 1433), (506, 860), (1176, 4214), (565, 3372), (811, 943), (560, 1136), (1422, 1704), (4532, 4607), (3, 3830), (315, 2183), (1737, 2468), (1374, 4222), (847, 2979), (1376, 2941), (3507, 3572), (387, 756), (291, 1279), (2057, 3515), (892, 1819), (3426, 3801), (1447, 4295), (316, 650), (2782, 4581), (307, 3244), (940, 3046), (499, 1827), (596, 2737), (62, 1935), (1971, 3646), (2429, 3770), (1595, 1859), (1538, 2920), (1120, 1728), (2092, 3307), (2000, 3683), (3536, 4645), (723, 1784), (480, 3606), (203, 815), (1444, 1727), (597, 2475), (2197, 3811), (316, 3799), (1089, 1867), (40, 4426), (122, 265), (1527, 4038), (1728, 2377), (1565, 3217), (3118, 4300), (661, 3826), (830, 1496), (2558, 2622), (72, 2382), (98, 940), (2577, 4507), (1324, 1615), (3452, 4592), (1727, 3758), (1399, 2755), (2015, 2283), (2968, 3363), (891, 4190), (1942, 3426), (1654, 1941), (2864, 3316), (1445, 2318), (1168, 4103), (701, 2686), (1510, 1932), (2318, 2388), (2864, 3496), (4058, 4377), (1749, 1890), (2156, 3905), (855, 906), (1399, 2987), (633, 3462), (1893, 2363), (87, 3252), (462, 1819), (1264, 2999), (1279, 4457), (2533, 4113), (2643, 2864), (1012, 4641), (1152, 3146), (1960, 2632), (2106, 2307), (44, 1902), (2466, 3078), (363, 2901), (286, 1842), (1819, 3766), (2118, 3048), (1264, 1283), (384, 3526), (2597, 3615), (393, 2842), (1789, 2294), (834, 2594), (2626, 3765), (4001, 4481), (3676, 4045), (596, 4107), (560, 2032), (1479, 2645), (2278, 2954), (499, 2622), (872, 3920), (3544, 4367), (2602, 3387), (1815, 3213), (678, 4421), (2979, 4495), (502, 4578), (2632, 3368), (720, 1615), (2830, 3162), (1422, 2986), (702, 1116), (872, 1703), (963, 1200), (2101, 4323), (1397, 1833), (3781, 4607), (202, 3380), (3235, 4538), (68, 1875), (3767, 4170), (1931, 3767), (68, 1825), (375, 811), (33, 1702), (1549, 2112), (3122, 3255), (1276, 2686), (536, 2922), (475, 2536), (781, 1267), (12, 1791), (1585, 2429), (2864, 3295), (2751, 3219), (109, 3261), (2491, 4336), (1819, 2445), (536, 671), (1685, 4056), (392, 2879), (2367, 4444), (2258, 2332), (89, 3496), (3605, 3830), (1583, 2475), (291, 1350), (2533, 3347), (737, 1565), (1940, 3514), (928, 3178), (3154, 3366), (393, 4500), (903, 1820), (1264, 2764), (1361, 1397), (855, 3724), (3370, 3380), (2548, 2853), (2283, 4569), (399, 2901), (2101, 4331), (3581, 4003), (605, 1988), (2831, 3442), (3340, 3719), (431, 1161), (830, 2971), (961, 3719), (1151, 1759), (2379, 2710), (724, 1598), (71, 2337), (2408, 3228), (312, 4200), (1643, 2065), (1603, 1819), (855, 4170), (499, 1061), (1479, 3529), (3781, 3884), (872, 4069), (730, 4277), (482, 896), (326, 4585), (182, 4605), (182, 1928), (419, 4358), (1024, 2654), (430, 4038), (1048, 3811), (2294, 2977), (2965, 3541), (1715, 3621), (1693, 4255), (1114, 2424), (641, 1603), (1117, 1264), (915, 3909), (483, 3264), (1932, 4397), (182, 837), (875, 4507), (2673, 4323), (3244, 3964), (2046, 2386), (497, 1693), (2828, 2901), (588, 3880), (1645, 1800), (427, 1561), (2183, 4268), (1715, 4617), (3719, 4130), (1704, 1988), (1455, 1971), (159, 1488), (470, 541), (940, 3887), (2596, 4528), (133, 2759), (2865, 4144), (835, 4609), (1704, 3240), (1050, 1383), (89, 3972), (2865, 3177), (1622, 3804), (2202, 2475), (193, 2179), (2864, 2873), (68, 3122), (3336, 4495), (3308, 4142), (2989, 4397), (4, 596), (2911, 4397), (59, 2112), (3261, 3740), (1715, 1819), (1505, 3054), (1862, 3193), (724, 3006), (781, 3568), (814, 2067), (304, 2976), (485, 1478), (485, 2360), (165, 3366), (172, 1304), (769, 1282), (220, 4331), (3740, 4067), (2032, 3592), (509, 3056), (772, 2306), (192, 1260), (1608, 2321), (2278, 4569), (1498, 2223), (1819, 1941), (784, 3908), (1116, 2167), (393, 4042), (1376, 2106), (1656, 1967), (3122, 4048), (1376, 3824), (2894, 4151), (596, 1656), (3202, 3748), (406, 4275), (920, 3106), (3122, 4031), (388, 842), (1254, 2654), (864, 4208), (1440, 4328), (307, 2530), (109, 3111), (240, 406), (801, 2998), (341, 427), (2106, 4025), (2217, 4481), (2868, 3261), (681, 2859), (724, 3921), (929, 1330), (2480, 4236), (2624, 4331), (72, 3541), (137, 3500), (446, 2475), (660, 2831), (1185, 2112), (1826, 2997), (891, 1376), (3850, 4142), (982, 3676), (1819, 2521), (1943, 3811), (124, 4244), (483, 3593), (2847, 4378), (69, 4142), (982, 1407), (769, 1200), (2751, 3441), (1819, 3660), (570, 2563), (107, 1830), (189, 2485), (2556, 3343), (843, 2828), (2429, 4415), (1709, 4469), (2827, 4133), (588, 2018), (384, 2105), (149, 1819), (1520, 1938), (214, 1000), (1723, 2767), (361, 4310), (724, 4295), (3021, 3210), (2824, 2970), (2131, 3021), (982, 1198), (2322, 2847), (560, 2205), (3776, 4397), (1090, 2408), (515, 1522), (1585, 4642), (100, 1565), (2751, 3376), (1066, 2714), (695, 2754), (2491, 4169), (2055, 2922), (1669, 4569), (1129, 4623), (2206, 3578), (1352, 3614), (2891, 4415), (596, 2090), (724, 781), (2887, 3178), (2283, 4417), (1557, 2591), (2428, 2847), (1976, 2789), (815, 2223), (1038, 1985), (196, 2088), (2306, 4440), (2156, 4190), (744, 847), (590, 1608), (1255, 3817), (2672, 3719), (777, 2294), (1988, 3152), (485, 1815), (455, 2582), (2670, 3054), (182, 704), (1802, 2268), (124, 2294), (1129, 2666), (617, 2199), (1800, 4595), (596, 1769), (1014, 3652), (213, 3922), (2159, 4282), (662, 1860), (1578, 1822), (742, 768), (3324, 4429), (602, 2278), (239, 406), (1495, 3621), (3566, 4094), (1585, 2592), (1316, 2533), (969, 4397), (2259, 4142), (1150, 2437), (1030, 1471), (2123, 4042), (596, 2758), (1672, 2831), (4038, 4280), (3592, 4542), (1936, 3719), (1890, 4625), (2203, 3855), (223, 2388), (1264, 2874), (3047, 3173)]\n"
          ]
        }
      ],
      "source": [
        "## 1. Enlaces positivos\n",
        "enlaces_verdaderos = []\n",
        "enlaces_origin = []\n",
        "enlaces_destino = []\n",
        "for i, item in enumerate(test_data.edge_label):\n",
        "  if item == 1:\n",
        "    a = test_data.edge_index[0][i].item()\n",
        "    b = test_data.edge_index[1][i].item()\n",
        "    if a < b :\n",
        "      enlaces_verdaderos.append((a,b))\n",
        "    else:\n",
        "      enlaces_verdaderos.append((b,a))\n",
        "    enlaces_origin.append(test_data.edge_index[0][i])\n",
        "    enlaces_destino.append(test_data.edge_index[1][i])\n",
        "\n",
        "enlaces_positivos_test = torch.tensor([enlaces_origin, enlaces_destino])\n",
        "print(enlaces_positivos_test)\n",
        "print(enlaces_positivos_test.shape)\n",
        "print(enlaces_verdaderos)"
      ]
    },
    {
      "cell_type": "code",
      "execution_count": null,
      "metadata": {
        "id": "Ouexh9P9_ZQO"
      },
      "outputs": [],
      "source": [
        "# REMOVE SELF-LOOPS\n",
        "for i in range(prob_adj.shape[0]):\n",
        "  prob_adj[i][i] = 0"
      ]
    },
    {
      "cell_type": "code",
      "execution_count": null,
      "metadata": {
        "colab": {
          "base_uri": "https://localhost:8080/"
        },
        "id": "5L9mAKfUtWKk",
        "outputId": "53df76f7-a11d-4ddf-c02c-cf06c0593f09"
      },
      "outputs": [
        {
          "data": {
            "text/plain": [
              "tensor([[0.0000, 0.0863, 0.0872,  ..., 0.0972, 0.1077, 0.0989],\n",
              "        [0.0203, 0.0000, 0.0403,  ..., 0.0567, 0.0751, 0.0600],\n",
              "        [0.1050, 0.1242, 0.0000,  ..., 0.1423, 0.1609, 0.1454],\n",
              "        ...,\n",
              "        [0.1448, 0.1705, 0.1722,  ..., 0.0000, 0.2208, 0.1999],\n",
              "        [0.1673, 0.2012, 0.2031,  ..., 0.2333, 0.0000, 0.2388],\n",
              "        [0.1380, 0.1653, 0.1669,  ..., 0.1914, 0.2179, 0.0000]],\n",
              "       grad_fn=<CopySlices>)"
            ]
          },
          "execution_count": 130,
          "metadata": {},
          "output_type": "execute_result"
        }
      ],
      "source": [
        "prob_adj"
      ]
    },
    {
      "cell_type": "code",
      "execution_count": null,
      "metadata": {
        "id": "2L4SLiprvaKc"
      },
      "outputs": [],
      "source": [
        "# La pasamos a numpy\n",
        "np_adj = prob_adj.detach().numpy()"
      ]
    },
    {
      "cell_type": "code",
      "execution_count": null,
      "metadata": {
        "id": "SfBLmmwGwfxD"
      },
      "outputs": [],
      "source": [
        "# Generamos los enlaces (this takes a lot). Probabelemente se puede hacer de forma más eficiente usando numpy.argpartition\n",
        "enlaces_predecidos = []\n",
        "for i in range(5938):\n",
        "  (a,b) = np.where(np_adj == np.amax(np_adj))\n",
        "  a = int(a[0])\n",
        "  b = int(b[0])\n",
        "  if a<b:\n",
        "    enlaces_predecidos.append((a, b))\n",
        "  else:\n",
        "    enlaces_predecidos.append((b, a))\n",
        "  np_adj[a][b] = 0"
      ]
    },
    {
      "cell_type": "code",
      "execution_count": null,
      "metadata": {
        "id": "5Jf6hCWl0a-o"
      },
      "outputs": [],
      "source": [
        "# Contar cuántos de los enlaces predecidos están realmente en el test.\n",
        "enlaces_true_predicted = 0\n",
        "\n",
        "for item in enlaces_predecidos:\n",
        "  if item in enlaces_verdaderos:\n",
        "    enlaces_true_predicted+=1"
      ]
    },
    {
      "cell_type": "code",
      "execution_count": null,
      "metadata": {
        "colab": {
          "base_uri": "https://localhost:8080/"
        },
        "id": "V-W84rIjy6LL",
        "outputId": "50a07e80-1d7e-4347-8a9e-981f292a0e35"
      },
      "outputs": [
        {
          "name": "stdout",
          "output_type": "stream",
          "text": [
            "Acuracy: 3.0481643651060963 %\n"
          ]
        }
      ],
      "source": [
        "# Accuracy \n",
        "accuracy = enlaces_true_predicted/len(enlaces_predecidos)\n",
        "print(\"Acuracy: {} %\".format(accuracy*100))"
      ]
    }
  ],
  "metadata": {
    "accelerator": "GPU",
    "colab": {
      "provenance": []
    },
    "gpuClass": "standard",
    "kernelspec": {
      "display_name": "Python 3 (ipykernel)",
      "language": "python",
      "name": "python3"
    },
    "language_info": {
      "codemirror_mode": {
        "name": "ipython",
        "version": 3
      },
      "file_extension": ".py",
      "mimetype": "text/x-python",
      "name": "python",
      "nbconvert_exporter": "python",
      "pygments_lexer": "ipython3",
      "version": "3.8.8"
    },
    "toc": {
      "base_numbering": 1,
      "nav_menu": {},
      "number_sections": true,
      "sideBar": true,
      "skip_h1_title": false,
      "title_cell": "Table of Contents",
      "title_sidebar": "Contents",
      "toc_cell": false,
      "toc_position": {},
      "toc_section_display": true,
      "toc_window_display": false
    },
    "varInspector": {
      "cols": {
        "lenName": 16,
        "lenType": 16,
        "lenVar": 40
      },
      "kernels_config": {
        "python": {
          "delete_cmd_postfix": "",
          "delete_cmd_prefix": "del ",
          "library": "var_list.py",
          "varRefreshCmd": "print(var_dic_list())"
        },
        "r": {
          "delete_cmd_postfix": ") ",
          "delete_cmd_prefix": "rm(",
          "library": "var_list.r",
          "varRefreshCmd": "cat(var_dic_list()) "
        }
      },
      "types_to_exclude": [
        "module",
        "function",
        "builtin_function_or_method",
        "instance",
        "_Feature"
      ],
      "window_display": false
    }
  },
  "nbformat": 4,
  "nbformat_minor": 0
}